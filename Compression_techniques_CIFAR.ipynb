{
  "cells": [
    {
      "cell_type": "markdown",
      "metadata": {
        "id": "view-in-github",
        "colab_type": "text"
      },
      "source": [
        "<a href=\"https://colab.research.google.com/github/fluderm/Model-compression/blob/main/Compression_techniques_CIFAR.ipynb\" target=\"_parent\"><img src=\"https://colab.research.google.com/assets/colab-badge.svg\" alt=\"Open In Colab\"/></a>"
      ]
    },
    {
      "cell_type": "markdown",
      "source": [
        "## SVD vs Pruing vs Quantization vs Distillation Learning:\n",
        "\n",
        "**Low-rank heuristics:**\n",
        " \n",
        "Let us for simplicity consider the matrix multiplication of $A \\cdot B$ with $A,B \\in \\mathbb{R}^{m\\times m}$. Then, if we rank-reduce by a factor of $r\\in (0,1)$, i.e. we approximate $A \\sim \\sum_{i=1}^{m r} s_i \\mathbf{u_i} \\mathbf{v_i}^\\mathrm{T}$, we expect a time complexity for the matrix multiplication of order $\\sim O(rm^3)$. (There are nowadays faster matrix multiplication algorithms of order $\\sim O(m^{2.3})$, but for the current heuristics we shall neglect this.) Thus, by using SVD, we get a theoretical time complexity reduction of $\\sim 1/r$. With regards to memory usage, naively (there might be optimizations), we would need to use $\\sim O(2 m^2 r)$ versus $\\sim O(m^2)$ space complexity. Thus, by appropriately chosing $r < 1/2$, saving potentially a lot of memory space.\n",
        "\n",
        "Therefore, on theoretical grounds, low-rank approximations are able to achieve significant size and inference and training latency reductions. None of the improvements are hardware or implementation dependent and should work on general grounds (we shall see this in the CIFAR10 example below).\n",
        "\n",
        "I would expect that using fine-tuning of $r$ and potential retraining (see below) the low-rank method works well for arbitrary tasks and by employing it, one can expect a relatively standard boost in speed and memory usage.\n",
        " \n",
        "**Pruning:**\n",
        " \n",
        "Pruning is the method of removing connections between neurons (or entire neurons) from a network. This is achieved by setting elements of the weight matrices to zero. These elements can either be unstructured (i.e. remove individual weights) or structured (i.e. remove entire channels -- or columns of weight matrices). In either case, the goal is to create sparse weight matrices, whose memory usage and matrix matrix multiplications can be optimized, leading to overall less memory consumption and faster execution speeds.\n",
        " \n",
        "On theoretical grounds (depending on the algorithm), sparse matrix multiplication for a matrices $A,B \\in \\mathbb{R}^{m\\times m}$ with $\\sim k$ nonzero elements can be done in roughly $O(m k)$ time (this estimation is based on a naive straight-forward algorithm). Thus, assuming that we prune a potential weight matrix by a factor of 95%, the time complexity of the pruned multiplication would be $\\sim O(m^3/1000)$. Given these assumptions, we can expect a factor of $\\sim 1000$ speedup in our inference speed, while retaining decent performance. Similarly, for space complexity, with the same assumptions we expect an improvement by a factor of $1000$, namely $O(2 m^2) \\to O(2 m^2/1000)$.\n",
        " \n",
        "On fundamental grounds, it is unclear to me how well pruning will generalize to different tasks. While it seems that it retains good accuracy in the CIFAR10 example, there is no guarantee that it does so if we start with a different model architecture or a different dataset/task. In particular, I am curious as to whether it performs well in regression tasks rather than classification. Similarly, one might simply do distillation learning (see below), or use a more efficient architecture.\n",
        " \n",
        "**Quantization:**\n",
        " \n",
        "The idea behind the compression method of quantization is that instead of reducing the number of non-zero weights, we reduce the \"size\" of the weights by quantizing them to a smaller, discrete set of potential values, while still retaining as much information as possible. As a consequence, each weight will take up less memory space, thus decreasing the overall memory usage as well as inference speed (the computation $5+3$ is clearly faster than $5.0000032+3.23142959812$). The performance boost from quantization is crucially dependent on hardware and the particular implementation. While there might be general guidelines, it seems that a case-by-case analysis and explicit empirical implementation is more suitable.\n",
        "\n",
        "**Distillation learning:**\n",
        "\n",
        "See below for my (naive) implementation of distillation learning in the CIFAR10 example. It seems to work extremely well, retaining good accuracy while speeding up inference by a factor substantially surpassing the low-rank implementation.\n",
        "\n",
        "**Conclusions:**\n",
        "\n",
        "Overall, it seems that each of these methods has its own merits, and there is a large amount of literature combining and improving upon them to great effect. Overall, naive low-rank approximations are quite easily implemented (see below), while both quantization and pruning require either improvements in algorithms (sparse matrix multiplication) or hardware optimizations.\n",
        "\n",
        "\n"
      ],
      "metadata": {
        "id": "pr-zeP9bggVa"
      }
    },
    {
      "cell_type": "markdown",
      "source": [
        "# Setup CIFAR model"
      ],
      "metadata": {
        "id": "0GcPCy6zhYjN"
      }
    },
    {
      "cell_type": "code",
      "execution_count": 1,
      "metadata": {
        "colab": {
          "base_uri": "https://localhost:8080/"
        },
        "id": "wBFa6wXqAKgK",
        "outputId": "02496595-6ede-481f-f276-308106282f55"
      },
      "outputs": [
        {
          "output_type": "stream",
          "name": "stdout",
          "text": [
            "Looking in indexes: https://pypi.org/simple, https://us-python.pkg.dev/colab-wheels/public/simple/\n",
            "Collecting dm-haiku\n",
            "  Downloading dm_haiku-0.0.9-py3-none-any.whl (352 kB)\n",
            "\u001b[2K     \u001b[90m━━━━━━━━━━━━━━━━━━━━━━━━━━━━━━━━━━━━━━━\u001b[0m \u001b[32m352.1/352.1 KB\u001b[0m \u001b[31m8.7 MB/s\u001b[0m eta \u001b[36m0:00:00\u001b[0m\n",
            "\u001b[?25hCollecting optax\n",
            "  Downloading optax-0.1.4-py3-none-any.whl (154 kB)\n",
            "\u001b[2K     \u001b[90m━━━━━━━━━━━━━━━━━━━━━━━━━━━━━━━━━━━━━━\u001b[0m \u001b[32m154.9/154.9 KB\u001b[0m \u001b[31m10.5 MB/s\u001b[0m eta \u001b[36m0:00:00\u001b[0m\n",
            "\u001b[?25hRequirement already satisfied: numpy>=1.18.0 in /usr/local/lib/python3.8/dist-packages (from dm-haiku) (1.21.6)\n",
            "Requirement already satisfied: absl-py>=0.7.1 in /usr/local/lib/python3.8/dist-packages (from dm-haiku) (1.3.0)\n",
            "Requirement already satisfied: tabulate>=0.8.9 in /usr/local/lib/python3.8/dist-packages (from dm-haiku) (0.8.10)\n",
            "Collecting jmp>=0.0.2\n",
            "  Downloading jmp-0.0.2-py3-none-any.whl (16 kB)\n",
            "Requirement already satisfied: typing-extensions>=3.10.0 in /usr/local/lib/python3.8/dist-packages (from optax) (4.4.0)\n",
            "Requirement already satisfied: jax>=0.1.55 in /usr/local/lib/python3.8/dist-packages (from optax) (0.3.25)\n",
            "Collecting chex>=0.1.5\n",
            "  Downloading chex-0.1.5-py3-none-any.whl (85 kB)\n",
            "\u001b[2K     \u001b[90m━━━━━━━━━━━━━━━━━━━━━━━━━━━━━━━━━━━━━━━━\u001b[0m \u001b[32m85.3/85.3 KB\u001b[0m \u001b[31m4.9 MB/s\u001b[0m eta \u001b[36m0:00:00\u001b[0m\n",
            "\u001b[?25hRequirement already satisfied: jaxlib>=0.1.37 in /usr/local/lib/python3.8/dist-packages (from optax) (0.3.25+cuda11.cudnn805)\n",
            "Requirement already satisfied: toolz>=0.9.0 in /usr/local/lib/python3.8/dist-packages (from chex>=0.1.5->optax) (0.12.0)\n",
            "Requirement already satisfied: dm-tree>=0.1.5 in /usr/local/lib/python3.8/dist-packages (from chex>=0.1.5->optax) (0.1.8)\n",
            "Requirement already satisfied: scipy>=1.5 in /usr/local/lib/python3.8/dist-packages (from jax>=0.1.55->optax) (1.7.3)\n",
            "Requirement already satisfied: opt-einsum in /usr/local/lib/python3.8/dist-packages (from jax>=0.1.55->optax) (3.3.0)\n",
            "Installing collected packages: jmp, dm-haiku, chex, optax\n",
            "Successfully installed chex-0.1.5 dm-haiku-0.0.9 jmp-0.0.2 optax-0.1.4\n"
          ]
        }
      ],
      "source": [
        "!pip install dm-haiku optax"
      ]
    },
    {
      "cell_type": "code",
      "execution_count": 2,
      "metadata": {
        "id": "wzdlf_milUbR"
      },
      "outputs": [],
      "source": [
        "from typing import Iterator, Mapping, Tuple\n",
        "from copy import deepcopy\n",
        "import time\n",
        "from absl import app\n",
        "import haiku as hk\n",
        "import matplotlib.pyplot as plt\n",
        "import jax\n",
        "import jax.numpy as jnp\n",
        "import numpy as np\n",
        "import optax\n",
        "import tensorflow_datasets as tfds\n",
        "import tensorflow as tf\n",
        "from functools import partial\n",
        "import math\n",
        "\n",
        "Batch = Tuple[np.ndarray, np.ndarray]"
      ]
    },
    {
      "cell_type": "markdown",
      "metadata": {
        "id": "fsYJmUqz-uFT"
      },
      "source": [
        "\n",
        "\n",
        "---\n",
        "\n",
        "\n"
      ]
    },
    {
      "cell_type": "code",
      "execution_count": 3,
      "metadata": {
        "id": "IqpgWQJs-evw"
      },
      "outputs": [],
      "source": [
        "CIFAR10_MEAN = (0.4914, 0.4822, 0.4465)\n",
        "DATA_MEANS=[0.4913996786152028,0.4821584083946074,0.4465309144454644]\n",
        "\n",
        "CIFAR10_STD = (0.2023, 0.1994, 0.2010)\n",
        "DATA_STD=[0.24703223246328238,0.2434851280000556,0.26158784172796423]\n",
        "\n",
        "\n",
        "# loads the architecture of the NN in haiku.\n",
        "def net_fn(batch: Batch) -> jnp.ndarray:\n",
        "\n",
        "  x = normalize(batch[0])\n",
        "  \n",
        "  net = hk.Sequential([\n",
        "      hk.Conv2D(output_channels=6*3, kernel_shape=(5,5)),\n",
        "      jax.nn.relu,\n",
        "      hk.AvgPool(window_shape=(2,2), strides=(2,2), padding='VALID'),\n",
        "      jax.nn.relu,\n",
        "      hk.Conv2D(output_channels=16*3, kernel_shape=(5,5)),\n",
        "      jax.nn.relu,\n",
        "      hk.AvgPool(window_shape=(2,2), strides=(2,2), padding='VALID'),\n",
        "      hk.Flatten(),\n",
        "      hk.Linear(3000), jax.nn.relu,\n",
        "      hk.Linear(2000), jax.nn.relu,\n",
        "      hk.Linear(2000), jax.nn.relu,\n",
        "      hk.Linear(1000), jax.nn.relu,\n",
        "      hk.Linear(10),\n",
        "  ])\n",
        "  return net(x)\n",
        "\n",
        "# Function that loads the datasets in batches. \n",
        "# The output is an iterator over the batches.\n",
        "def load_dataset(\n",
        "    split: str,\n",
        "    *,\n",
        "    is_training: bool,\n",
        "    batch_size: int,\n",
        ") -> Iterator[tuple]:\n",
        "  \n",
        "  ds = tfds.load('cifar10', split=split, as_supervised=True).cache().repeat()\n",
        "  if is_training:\n",
        "    ds = ds.shuffle(10 * batch_size, seed=0)\n",
        "  ds = ds.batch(batch_size)\n",
        "  return iter(tfds.as_numpy(ds))\n",
        "\n",
        "# Loss function for our NN; here we choose a L_2 regularized version of the\n",
        "# categorical log-likelihood (i.e. the softmax loss)\n",
        "def compute_loss(params: hk.Params, batch: Batch) -> jnp.ndarray:\n",
        "  \n",
        "  x, y = batch\n",
        "  logits = net.apply(params, batch)\n",
        "  labels = jax.nn.one_hot(y, 10)\n",
        "\n",
        "  l2_loss = 0.5*sum(jnp.sum(jnp.square(p)) for p in jax.tree_util.tree_leaves(params))\n",
        "  weighted_l2_loss = 0.5 * l2_loss\n",
        "  \n",
        "  softmax_xent = -jnp.sum(labels * jax.nn.log_softmax(logits))/labels.shape[0]\n",
        "  \n",
        "  return softmax_xent + (1e-4 * l2_loss)\n",
        "\n",
        "@jax.jit\n",
        "def compute_accuracy(params: hk.Params, batch: Batch) -> jnp.ndarray:\n",
        "  predictions = net.apply(params, batch)\n",
        "\n",
        "  accuracy= jnp.mean(jnp.argmax(predictions, axis=-1) == batch[1])\n",
        "  return accuracy\n",
        "\n",
        "@jax.jit\n",
        "def update(\n",
        "    params: hk.Params,\n",
        "    opt_state: optax.OptState,\n",
        "    batch: Batch,\n",
        ") -> Tuple[hk.Params, optax.OptState]:\n",
        "  grads = jax.grad(compute_loss)(params, batch)\n",
        "  updates, opt_state = opt.update(grads, opt_state)\n",
        "  new_params = optax.apply_updates(params, updates)\n",
        "  return new_params, opt_state\n",
        "\n",
        "@jax.jit\n",
        "def ema_update(params, avg_params):\n",
        "  return optax.incremental_update(params, avg_params, step_size=0.001)\n",
        "\n",
        "def normalize(images):\n",
        "  x = images.astype(jnp.uint8) / 255.\n",
        "  x -= np.asarray(DATA_MEANS)\n",
        "  x /= np.asarray(DATA_STD) #(std)\n",
        "\n",
        "  return x"
      ]
    },
    {
      "cell_type": "markdown",
      "metadata": {
        "id": "d5iI930cIjzM"
      },
      "source": [
        "## Train base model"
      ]
    },
    {
      "cell_type": "code",
      "execution_count": 4,
      "metadata": {
        "id": "Q4-HuMSH_Cbw",
        "colab": {
          "base_uri": "https://localhost:8080/",
          "height": 307,
          "referenced_widgets": [
            "757c668d69f64bb1a5d1b73105f4fc81",
            "661d01f016604adfa397f69e954d566a",
            "03266418b2c04b44bf162a4a7b007ca9",
            "1b1a937d7daa4722ba7be4e893702ec6",
            "9d44c3d7a7dd4b3997f4724547206fce",
            "b4d279d38cec477db480d465f448dcb9",
            "da0586fd96364cb89a7552e76a9adb21",
            "a51c84f18a394950a9aee9322882c1af",
            "82a031d924654d8dbd4c8bbca09cba81",
            "54154cf261504cd587b0c4a6a82bb599",
            "00171443759a4ae68c086e358b3cc557",
            "b5df09b2e5c7447f9241c5a7a2bf58cc",
            "332592fc0b1844b0b262edb00911e80e",
            "adddda94c5944c21b8f54b71bb564b95",
            "e7a4b3e44aa74c0d833fc1f5749579c2",
            "dce0d2d3126e452fb1dd4047e0487536",
            "8fb3fbf072934a31959f40905fdaa1cf",
            "b5bc6998045749d88f59b8cc0c10da71",
            "12885c8a762b44cda0b4e4c2ebb9fb8c",
            "d0aef8785f3941dd842144086c2fd85e",
            "40b65e48b2be445e86fe7917df68bbdd",
            "42b848caa6f747a2ada2482a71f20e2a",
            "b61c96baf65d49f0abe35678f5cf3cc5",
            "1e8e7159610e4d079933f68721c8c687",
            "ee1c5cbc0eb4432da726cbace4b20e87",
            "b8b2b7b321444d42b5a462793fe41d88",
            "b5bf3d53ca7f473892d56a4441ce7d4a",
            "f54530fccca540b0a268b19666432575",
            "9dd3fd7c66ce4ff6a530505e129c4295",
            "dff04fcabf5746beb83779f45bde5cf4",
            "cca68d0490614e2a9818a402d47100fb",
            "a2d6d1238c0449228aedf68e5c0c0e32",
            "6ae7a40e826745e48428766b8874699a",
            "b307b50627704f399c31541a1254a829",
            "e102510283eb405c9f213be3f26c9967",
            "03e9a02c7c3447fcb5dec37f4142945c",
            "a3fbfc1ae8cb41a4a4285e9d55fbb46d",
            "5fcc43ceeff64af78a657471145b6192",
            "c053e10fb2e3431582d6875fa1028957",
            "a29ebdadcc4c4c5baf4e4fdff7009d38",
            "738eadcb89124b66aaf70eace27faa18",
            "56ba360e53924dfda6c31607321bff53",
            "ee49689b29fc417e9bba23bdcf2aa750",
            "46804fc717f54c0884d70bf9adc7caea",
            "79a1b7688bfd408f97437c43a4e04aea",
            "f636b499412943a3a1dcbd0290978154",
            "fbc0967801b4406e82582988663af0e6",
            "24560fd16f3e4f9a87028fc0812c466b",
            "6b8907cfb04d4c249a56ca9d72715aac",
            "b87e7631ea644028ab384048074eb62e",
            "e8bd80455088460191dbf64d011492e8",
            "4b376152845347949d9df75b91b636af",
            "36e36c71dfa048fba1413a4befc61ac6",
            "d2b983e4e0f241c0bd2e4e71be4b88e7",
            "1bdd0bcd31e1495fa371d528ffe764d2",
            "7660fe562f814661a36089c5a68346da",
            "14800ed88f054b1793a61b36996e1c3d",
            "108097db30cf41a4948b8952e3e8d6f3",
            "142e4269c0d24a758cb48ba21850b334",
            "2cc09fa5ed91487586a2ae5ed1fb8f24",
            "e0720533cfb34babb1af00a279d0897d",
            "0664818ae63345e3b4aab29c4ef8d8a9",
            "b70e2b2eb4d04973a2547431d0bcbdcc",
            "bd94a0dad73c478c9a741ef22ff5ef5c",
            "ab18f0c6130042649f8e37c63a9a7e72",
            "2375614bbe3d40e8991676fc7658b496",
            "6a0e459747c24aeb9f4781f4c17b8d0a",
            "8a53a4fac15c482da1c14692d0b56e8b",
            "f71026a10e10418385c5b18b1a6be440",
            "d5062944e7fb48e29790c99d54a70908",
            "33a7d3f7323e4f02a2c1294bc3e472a4",
            "d020b4ea0279482ba05ae7311335154d",
            "de46d1d9764e46608069d94b25790f7d",
            "56ce6d16f8d94356b0eed3a05a22b57d",
            "538242d2e08446a196c3b9c9b77beddf",
            "5114d5a7f81b435d9b154fd858b8071f",
            "95d9eddca5c546389cd355242a130e5f",
            "b9617bf0d30a4fdc8772d295a05e2133",
            "4aa51b6e64044918ad93ea56b704ac7c",
            "c99ff6972e0548719ba503527b23477d",
            "3dab07a577dc43fca6ad0cf5a862b50d",
            "144f2e651add4631a4fea0f7a640f4d4",
            "e03f2a6f2e0a4d50bd27138c8e824949",
            "a5d51ffa27bb49e1b0b917d419e3d1b1",
            "b7932f33f60b4103babe0f8678a36dd5",
            "733402e67def435f98b2ad92d84fe696",
            "d882750d780445c7bfc5f35d1f5f5dde",
            "155518b7558c421197b02cb7fb9861bb"
          ]
        },
        "outputId": "fe49dd15-8745-43de-84a9-608b17390f5f"
      },
      "outputs": [
        {
          "output_type": "stream",
          "name": "stdout",
          "text": [
            "Downloading and preparing dataset 162.17 MiB (download: 162.17 MiB, generated: 132.40 MiB, total: 294.58 MiB) to /root/tensorflow_datasets/cifar10/3.0.2...\n"
          ]
        },
        {
          "output_type": "display_data",
          "data": {
            "text/plain": [
              "Dl Completed...: 0 url [00:00, ? url/s]"
            ],
            "application/vnd.jupyter.widget-view+json": {
              "version_major": 2,
              "version_minor": 0,
              "model_id": "757c668d69f64bb1a5d1b73105f4fc81"
            }
          },
          "metadata": {}
        },
        {
          "output_type": "display_data",
          "data": {
            "text/plain": [
              "Dl Size...: 0 MiB [00:00, ? MiB/s]"
            ],
            "application/vnd.jupyter.widget-view+json": {
              "version_major": 2,
              "version_minor": 0,
              "model_id": "b5df09b2e5c7447f9241c5a7a2bf58cc"
            }
          },
          "metadata": {}
        },
        {
          "output_type": "display_data",
          "data": {
            "text/plain": [
              "Extraction completed...: 0 file [00:00, ? file/s]"
            ],
            "application/vnd.jupyter.widget-view+json": {
              "version_major": 2,
              "version_minor": 0,
              "model_id": "b61c96baf65d49f0abe35678f5cf3cc5"
            }
          },
          "metadata": {}
        },
        {
          "output_type": "display_data",
          "data": {
            "text/plain": [
              "Generating splits...:   0%|          | 0/2 [00:00<?, ? splits/s]"
            ],
            "application/vnd.jupyter.widget-view+json": {
              "version_major": 2,
              "version_minor": 0,
              "model_id": "b307b50627704f399c31541a1254a829"
            }
          },
          "metadata": {}
        },
        {
          "output_type": "display_data",
          "data": {
            "text/plain": [
              "Generating train examples...:   0%|          | 0/50000 [00:00<?, ? examples/s]"
            ],
            "application/vnd.jupyter.widget-view+json": {
              "version_major": 2,
              "version_minor": 0,
              "model_id": "79a1b7688bfd408f97437c43a4e04aea"
            }
          },
          "metadata": {}
        },
        {
          "output_type": "display_data",
          "data": {
            "text/plain": [
              "Shuffling /root/tensorflow_datasets/cifar10/3.0.2.incompleteV2AA1S/cifar10-train.tfrecord*...:   0%|          …"
            ],
            "application/vnd.jupyter.widget-view+json": {
              "version_major": 2,
              "version_minor": 0,
              "model_id": "7660fe562f814661a36089c5a68346da"
            }
          },
          "metadata": {}
        },
        {
          "output_type": "display_data",
          "data": {
            "text/plain": [
              "Generating test examples...:   0%|          | 0/10000 [00:00<?, ? examples/s]"
            ],
            "application/vnd.jupyter.widget-view+json": {
              "version_major": 2,
              "version_minor": 0,
              "model_id": "6a0e459747c24aeb9f4781f4c17b8d0a"
            }
          },
          "metadata": {}
        },
        {
          "output_type": "display_data",
          "data": {
            "text/plain": [
              "Shuffling /root/tensorflow_datasets/cifar10/3.0.2.incompleteV2AA1S/cifar10-test.tfrecord*...:   0%|          |…"
            ],
            "application/vnd.jupyter.widget-view+json": {
              "version_major": 2,
              "version_minor": 0,
              "model_id": "b9617bf0d30a4fdc8772d295a05e2133"
            }
          },
          "metadata": {}
        },
        {
          "output_type": "stream",
          "name": "stdout",
          "text": [
            "Dataset cifar10 downloaded and prepared to /root/tensorflow_datasets/cifar10/3.0.2. Subsequent calls will reuse this data.\n"
          ]
        },
        {
          "output_type": "stream",
          "name": "stderr",
          "text": [
            "/usr/local/lib/python3.8/dist-packages/haiku/_src/base.py:515: UserWarning: Explicitly requested dtype float64 requested in zeros is not available, and will be truncated to dtype float32. To enable more dtypes, set the jax_enable_x64 configuration option or the JAX_ENABLE_X64 shell environment variable. See https://github.com/google/jax#current-gotchas for more.\n",
            "  param = init(shape, dtype)\n"
          ]
        },
        {
          "output_type": "stream",
          "name": "stdout",
          "text": [
            "[Step 0] Validation / Test accuracy: 0.103 / 0.103.\n",
            "[Step 1000] Validation / Test accuracy: 0.592 / 0.486.\n",
            "[Step 2000] Validation / Test accuracy: 0.987 / 0.633.\n",
            "[Step 3000] Validation / Test accuracy: 0.225 / 0.216.\n",
            "[Step 4000] Validation / Test accuracy: 0.676 / 0.496.\n",
            "[Step 5000] Validation / Test accuracy: 0.981 / 0.556.\n"
          ]
        }
      ],
      "source": [
        "net = hk.without_apply_rng(hk.transform(net_fn))\n",
        "\n",
        "opt = optax.adam(1e-3)\n",
        "\n",
        "train = load_dataset(\"train\", is_training=True, batch_size=1000)\n",
        "validation = load_dataset(\"train\", is_training=False, batch_size=10000)\n",
        "test = load_dataset(\"test\", is_training=False, batch_size=10000)\n",
        "\n",
        "params = avg_params = net.init(jax.random.PRNGKey(42), next(train))\n",
        "opt_state = opt.init(params)\n",
        "\n",
        "best_test_accuracy=0\n",
        "\n",
        "for step in range(5001):\n",
        "  if step % 100 == 0:\n",
        "    val_accuracy = compute_accuracy(avg_params, next(validation))\n",
        "    test_accuracy = compute_accuracy(avg_params, next(test))\n",
        "    \n",
        "    val_accuracy, test_accuracy = jax.device_get(\n",
        "        (val_accuracy, test_accuracy))\n",
        "\n",
        "    # save best parameters:\n",
        "    if test_accuracy>best_test_accuracy:\n",
        "      best_params=avg_params\n",
        "      best_test_accuracy=test_accuracy\n",
        "\n",
        "    if step %1000==0:  \n",
        "      print(f\"[Step {step}] Validation / Test accuracy: \"\n",
        "            f\"{val_accuracy:.3f} / {test_accuracy:.3f}.\")\n",
        "    \n",
        "  params, opt_state = update(params, opt_state, next(train))\n",
        "  avg_params = ema_update(params, avg_params)"
      ]
    },
    {
      "cell_type": "markdown",
      "source": [
        "### Save/Load model"
      ],
      "metadata": {
        "id": "BAuAqAADmgL5"
      }
    },
    {
      "cell_type": "code",
      "source": [
        "params=best_params"
      ],
      "metadata": {
        "id": "J9WzVOTLqTxa"
      },
      "execution_count": 5,
      "outputs": []
    },
    {
      "cell_type": "code",
      "source": [
        "val_accuracy = compute_accuracy(params, next(validation))\n",
        "test_accuracy = compute_accuracy(params, next(test))\n",
        "\n",
        "val_accuracy, test_accuracy = jax.device_get(\n",
        "    (val_accuracy, test_accuracy))\n",
        "print(f\"Best params: Validation / Test accuracy: \"\n",
        "      f\"{val_accuracy:.3f} / {test_accuracy:.3f}.\")"
      ],
      "metadata": {
        "colab": {
          "base_uri": "https://localhost:8080/"
        },
        "id": "ZEgaYZfAogke",
        "outputId": "37e63661-4623-4971-dbb8-491c7c9f142e"
      },
      "execution_count": 6,
      "outputs": [
        {
          "output_type": "stream",
          "name": "stdout",
          "text": [
            "Best params: Validation / Test accuracy: 0.999 / 0.650.\n"
          ]
        }
      ]
    },
    {
      "cell_type": "markdown",
      "source": [
        "#### Save"
      ],
      "metadata": {
        "id": "HfnxkJbf54uj"
      }
    },
    {
      "cell_type": "code",
      "source": [
        "import pickle\n",
        "\n",
        "f = open(\"params.pkl\",\"wb\")\n",
        "pickle.dump(params,f)\n",
        "f.close()"
      ],
      "metadata": {
        "id": "ig5YITSnG6QK"
      },
      "execution_count": 7,
      "outputs": []
    },
    {
      "cell_type": "markdown",
      "source": [
        "#### Load"
      ],
      "metadata": {
        "id": "N8O4zbzc5-4S"
      }
    },
    {
      "cell_type": "code",
      "source": [
        "import pickle\n",
        "\n",
        "train = load_dataset(\"train\", is_training=True, batch_size=1000)\n",
        "validation = load_dataset(\"train\", is_training=False, batch_size=10000)\n",
        "test = load_dataset(\"test\", is_training=False, batch_size=10000)\n",
        "\n",
        "net = hk.without_apply_rng(hk.transform(net_fn))\n",
        "\n",
        "# Do not change learning rate\n",
        "opt = optax.adam(1e-3)\n",
        "\n",
        "train = load_dataset(\"train\", is_training=True, batch_size=1000)\n",
        "validation = load_dataset(\"train\", is_training=False, batch_size=10000)\n",
        "test = load_dataset(\"test\", is_training=False, batch_size=10000)\n",
        "\n",
        "\n",
        "with open('params.pkl', 'rb') as handle:\n",
        "    params = pickle.load(handle)\n",
        "\n",
        "val_accuracy = compute_accuracy(params, next(validation))\n",
        "test_accuracy = compute_accuracy(params, next(test))\n",
        "\n",
        "val_accuracy, test_accuracy = jax.device_get(\n",
        "    (val_accuracy, test_accuracy))\n",
        "print(f\"Best params: Validation / Test accuracy: \"\n",
        "      f\"{val_accuracy:.3f} / {test_accuracy:.3f}.\")"
      ],
      "metadata": {
        "id": "uax_4QA8GwR0"
      },
      "execution_count": null,
      "outputs": []
    },
    {
      "cell_type": "markdown",
      "source": [
        "## Compute Latency time"
      ],
      "metadata": {
        "id": "cRK5U6oMmpyv"
      }
    },
    {
      "cell_type": "code",
      "source": [
        "import torch\n",
        "\n",
        "@jax.jit\n",
        "def predict(x, para):\n",
        "  return net.apply(para, x)\n",
        "\n",
        "starter = torch.cuda.Event(enable_timing=True)\n",
        "ender = torch.cuda.Event(enable_timing=True)\n",
        "\n",
        "def latency_time(params, batch, n_samples):\n",
        "\n",
        "  timings=np.zeros((n_samples,))\n",
        "  #warm-up\n",
        "  for _ in range(10):\n",
        "    _ = predict(batch,params)\n",
        "\n",
        "  with torch.no_grad():\n",
        "    for rep in range(n_samples):\n",
        "      starter.record()\n",
        "      _ = predict(batch,params)\n",
        "      ender.record()\n",
        "\n",
        "      torch.cuda.synchronize()\n",
        "      curr_time = starter.elapsed_time(ender)\n",
        "      timings[rep] = curr_time\n",
        "  \n",
        "  return timings"
      ],
      "metadata": {
        "id": "fyU4fhnBroE8"
      },
      "execution_count": 8,
      "outputs": []
    },
    {
      "cell_type": "code",
      "execution_count": 9,
      "metadata": {
        "id": "sdZqO7W_KSX8"
      },
      "outputs": [],
      "source": [
        "def compute_eval_metrics(params, batch, n_samples):\n",
        "  duration_list=latency_time(params, batch, n_samples)\n",
        "\n",
        "  predictions=predict(batch,params)\n",
        "  accuracy_list=jax.device_get((jnp.mean(jnp.argmax(predictions, axis=-1) == batch[1])))\n",
        "  \n",
        "  return accuracy_list,duration_list"
      ]
    },
    {
      "cell_type": "markdown",
      "source": [
        "# 1. Naive SVD factorized space models\n"
      ],
      "metadata": {
        "id": "a6ksXJFJmZgY"
      }
    },
    {
      "cell_type": "markdown",
      "source": [
        "## Matrix Multiplication Toy Model:"
      ],
      "metadata": {
        "id": "QMrxtxh4zyJ1"
      }
    },
    {
      "cell_type": "markdown",
      "source": [
        " The toy example below is also instructive for the next part, where we work in factorized space and thus are expected to see a performance boost (and we can even predict that it should be linear in rank reduction).\n",
        "\n"
      ],
      "metadata": {
        "id": "t44BuNLez-vV"
      }
    },
    {
      "cell_type": "code",
      "source": [
        "def mat_mult_timing(M1_tuple,n_samples):\n",
        "\n",
        "  timings=np.zeros((n_samples,))\n",
        "  #warm-up\n",
        "  for _ in range(10):\n",
        "    if len(M1_tuple)==3:\n",
        "      _ = M1_tuple[0]@M1_tuple[1]@M1_tuple[2]\n",
        "    else:\n",
        "      _ = M1_tuple[0]@M1_tuple[1]\n",
        "\n",
        "  with torch.no_grad():\n",
        "    for rep in range(n_samples):\n",
        "      if len(M1_tuple)==3:\n",
        "        starter.record()\n",
        "        _ = M1_tuple[0]@(M1_tuple[1]@M1_tuple[2])\n",
        "        ender.record()\n",
        "      else:\n",
        "        starter.record()\n",
        "        _ = M1_tuple[0]@M1_tuple[1]\n",
        "        ender.record()\n",
        "\n",
        "      torch.cuda.synchronize()\n",
        "      curr_time = starter.elapsed_time(ender)\n",
        "      timings[rep] = curr_time\n",
        "  \n",
        "  return timings\n",
        "\n",
        "A=np.random.random((3000,1000))\n",
        "U,S,V=np.linalg.svd(A)\n",
        "B=np.random.random((1000,1000))\n",
        "\n",
        "toy_example_timings=[]\n",
        "for rkfrac in np.arange(1.0, 0.0, -0.1):\n",
        "  B_rank=int(rkfrac*min(B.shape))\n",
        "  uu=U[:, :B_rank] * S[:B_rank]\n",
        "  vv=V[:B_rank, :]\n",
        "  A_tilde=uu@vv\n",
        "\n",
        "  timing_with_factorization=mat_mult_timing((uu,vv,B),50)\n",
        "  timing_without_factorization=mat_mult_timing((A_tilde,B),50)\n",
        "\n",
        "  toy_example_timings.append((rkfrac,np.mean(timing_with_factorization),np.std(timing_with_factorization),\n",
        "                       np.mean(timing_without_factorization),np.std(timing_without_factorization)))\n",
        "  #print(toy_example_timings[-1])"
      ],
      "metadata": {
        "id": "bo7N8NDTSk67"
      },
      "execution_count": null,
      "outputs": []
    },
    {
      "cell_type": "code",
      "source": [
        "plt.errorbar(100*np.array(toy_example_timings)[:,0],\n",
        "             np.array(toy_example_timings)[:,1],\n",
        "             np.array(toy_example_timings)[:,2],linestyle='None',marker='x',color='blue',capsize=5)\n",
        "\n",
        "plt.errorbar(100*np.array(toy_example_timings)[:,0],\n",
        "             np.array(toy_example_timings)[:,3],\n",
        "             np.array(toy_example_timings)[:,4],linestyle='None',marker='x',color='green',capsize=5)\n",
        "\n",
        "plt.title('Toy model of matrix multiplication:', fontsize=20, pad='20.0')\n",
        "plt.xlabel('rank fraction [%]')\n",
        "plt.ylabel('matrix multiplcation time [ms]')\n",
        "\n",
        "plt.show()"
      ],
      "metadata": {
        "colab": {
          "base_uri": "https://localhost:8080/",
          "height": 314
        },
        "id": "iwnGi6_inRz4",
        "outputId": "6c2195fe-ea23-497e-867f-189e83a9d1a7"
      },
      "execution_count": null,
      "outputs": [
        {
          "output_type": "display_data",
          "data": {
            "text/plain": [
              "<Figure size 432x288 with 1 Axes>"
            ],
            "image/png": "[encoded data removed]"
          },
          "metadata": {
            "needs_background": "light"
          }
        }
      ]
    },
    {
      "cell_type": "markdown",
      "source": [
        "The above plot empirically shows that by precomputing $A \\cdot B = \\left(\\sum_{i=1}^{f} u_i s_i v^{\\mathrm{T}}_i\\right) \\cdot B$, rank reduction has no effect on the matrix multiplication speed (we will always perform $O(nkl)$ operations, where $A \\in \\mathbb{R}^{n\\times k}$ and $B \\in \\mathbb{R}^{k\\times l}$). Here, $f$ is the rank reduction coefficient $r$ times $\\mathrm{min}(n,k)$, \\emph{i.e.} $f=r\\cdot \\mathrm{min}(n,k)$.\n",
        " \n",
        "However, if we evaluate $A \\cdot B = \\sum_{i=1}^{f} (u_i s_i) v^{\\mathrm{T}}_i \\cdot B$, we perform $O\\left(n k f+ k l f\\right)$. Thus, depending on the size of $f$ (or $r$) one can expect potential speedups in the matrix multiplication (and especially upon chaining together many such operations as is done in a neural net). Notice that given this heuristic, one might expect that the two toy models intersect at $r\\sim$ 50% rank fraction, which is approximately reproduced in the empirical plot above. I believe the deviation from exactly 50% is due to NumPy using some speedups that reduce the asymptotic time complexity of matrix multiplication to something slightly smaller than $O(nlk)$.\n",
        " \n",
        "Finally, we notice that the number of parameters we ought to store for A reduces from $O(nk)$ to $O((m+n)k)$, thus reducing the space complexity of our neural network (potentially) significantly.\n",
        "\n"
      ],
      "metadata": {
        "id": "U8v3hv1RpMq4"
      }
    },
    {
      "cell_type": "markdown",
      "source": [
        "## Actual rank-reduced NN:"
      ],
      "metadata": {
        "id": "rIuVW_Raz2X9"
      }
    },
    {
      "cell_type": "code",
      "execution_count": null,
      "metadata": {
        "id": "X8U8Nlp9IS4q"
      },
      "outputs": [],
      "source": [
        "weight_to_SVD={}\n",
        "\n",
        "def rank_approximated_weight(weight: jnp.ndarray, rank_fraction: float):\n",
        "  # perform SVD, and if already performed for these weights, use the results\n",
        "  # stored in the weight_to_SVD-dictionary\n",
        "  if layer in weight_to_SVD:\n",
        "    U,S,V=weight_to_SVD[layer]\n",
        "  else:\n",
        "    U,S,V=jnp.linalg.svd(weight)\n",
        "    weight_to_SVD[layer]=(U,S,V)\n",
        "  \n",
        "  # create the matrices u and v given the rank_fraction\n",
        "  size=int(rank_fraction*min(weight.shape))\n",
        "  u = U[:, :size] * S[:size]\n",
        "  v = V[:size, :]\n",
        "  \n",
        "  return u, v"
      ]
    },
    {
      "cell_type": "code",
      "execution_count": null,
      "metadata": {
        "id": "OctdUxerSZut"
      },
      "outputs": [],
      "source": [
        "def low_rank_net_fn(batch: Batch, rank: float) -> jnp.ndarray:\n",
        "  \n",
        "  x = normalize(batch[0])\n",
        "  total_input_dim = np.prod(x.shape[1:])\n",
        "\n",
        "  net = hk.Sequential([\n",
        "      hk.Conv2D(output_channels=6*3, kernel_shape=(5,5)),\n",
        "      jax.nn.relu,\n",
        "      hk.AvgPool(window_shape=(2,2), strides=(2,2), padding='VALID'),\n",
        "      jax.nn.relu,\n",
        "      hk.Conv2D(output_channels=16*3, kernel_shape=(5,5)),\n",
        "      jax.nn.relu,\n",
        "      hk.AvgPool(window_shape=(2,2), strides=(2,2), padding='VALID'),\n",
        "      hk.Flatten(),\n",
        "      hk.Linear(int(rank * min(total_input_dim, 3000)), with_bias=False),\n",
        "      hk.Linear(3000), jax.nn.relu,\n",
        "      hk.Linear(int(rank * 2000), with_bias=False), \n",
        "      hk.Linear(2000), jax.nn.relu,\n",
        "      hk.Linear(int(rank * 2000), with_bias=False), \n",
        "      hk.Linear(2000), jax.nn.relu,      \n",
        "      hk.Linear(int(rank * 1000), with_bias=False), \n",
        "      hk.Linear(1000), jax.nn.relu,\n",
        "      hk.Linear(int(rank * 10), with_bias=False),\n",
        "      hk.Linear(10),\n",
        "  ])\n",
        "  return net(x)"
      ]
    },
    {
      "cell_type": "code",
      "source": [
        "vanilla_to_low_rank_map = {\n",
        "    'conv2_d': 'conv2_d',\n",
        "    'conv2_d_1': 'conv2_d_1',\n",
        "    'linear': ['linear', 'linear_1'],\n",
        "    'linear_1': ['linear_2', 'linear_3'],\n",
        "    'linear_2': ['linear_4', 'linear_5'],\n",
        "    'linear_3': ['linear_6', 'linear_7'],\n",
        "    'linear_4': ['linear_8', 'linear_9']\n",
        "}\n",
        "\n",
        "\n",
        "ranks_and_accuracies = []\n",
        "ranks_and_times = []\n",
        "ranks_and_mem = []\n",
        "\n",
        "for rank_fraction in np.arange(1.0, 0.0, -0.1):\n",
        "  low_rank_net_fn_partial = partial(low_rank_net_fn, rank=rank_fraction)\n",
        "  net = hk.without_apply_rng(hk.transform(low_rank_net_fn_partial)) \n",
        "  low_rank_params = net.init(jax.random.PRNGKey(42), next(train))\n",
        "\n",
        "  print(f\"Evaluating the model at \" f\"{rank_fraction:.2f}\")\n",
        "\n",
        "  for layer in vanilla_to_low_rank_map.keys():\n",
        "    if 'conv' in layer:\n",
        "      low_rank_params[layer] = params[layer]\n",
        "      continue\n",
        "    weight = params[layer]['w']\n",
        "    u, v = rank_approximated_weight(weight, rank_fraction)\n",
        "    low_rank_params[vanilla_to_low_rank_map[layer][0]]['w'] = u\n",
        "    low_rank_params[vanilla_to_low_rank_map[layer][1]]['w'] = v\n",
        "    low_rank_params[vanilla_to_low_rank_map[layer][1]]['b'] = params[layer]['b']\n",
        "  \n",
        "  test_batch=next(test)\n",
        "  test_accuracy, duration = compute_eval_metrics(low_rank_params,test_batch, 50)\n",
        "\n",
        "  # save inference times, accuracies and memory usage\n",
        "  ranks_and_times.append((rank_fraction, np.mean(duration), np.std(duration)))\n",
        "  ranks_and_accuracies.append((rank_fraction, np.mean(test_accuracy)))\n",
        "  ranks_and_mem.append(sum(p.nbytes for p in jax.tree_util.tree_leaves(low_rank_params))/121848904)\n",
        "\n",
        "  print(f\"Rank Fraction / Test accuracy: \"\n",
        "          f\"{rank_fraction:.2f} / {np.mean(test_accuracy):.3f}.\")\n",
        "  print(f\"Rank Fraction / Duration: \"\n",
        "          f\"{rank_fraction:.2f} / {np.mean(duration):.4f}.\")\n",
        "  print(f\"Memory usage vs original model: \"\n",
        "          f\"{ranks_and_mem[-1]:.2f}\")"
      ],
      "metadata": {
        "id": "nAeENGAPGN7d"
      },
      "execution_count": null,
      "outputs": []
    },
    {
      "cell_type": "markdown",
      "source": [
        "## Conclusions:"
      ],
      "metadata": {
        "id": "lYQwW7851Tyl"
      }
    },
    {
      "cell_type": "code",
      "source": [
        "# For completion added accuracy and memory plots as well\n",
        "\n",
        "plt.figure(figsize=(8, 6))\n",
        "\n",
        "plt.plot(100*np.array(ranks_and_accuracies)[:,0],\n",
        "          100*np.array(ranks_and_accuracies)[:,1], linestyle='--', marker='x', color='b')\n",
        "\n",
        "plt.title('Accuracy in Factorized Space Model:', fontsize=20, pad='20.0')\n",
        "plt.xlabel('rank fraction [%]')\n",
        "plt.ylabel('accuracy [%]')\n",
        "\n",
        "plt.show()"
      ],
      "metadata": {
        "colab": {
          "base_uri": "https://localhost:8080/",
          "height": 423
        },
        "id": "s-CO6c8ZZJkT",
        "outputId": "57d4a581-c6da-428d-fb5d-98637a424854"
      },
      "execution_count": null,
      "outputs": [
        {
          "output_type": "display_data",
          "data": {
            "text/plain": [
              "<Figure size 576x432 with 1 Axes>"
            ],
            "image/png": "[encoded data removed]"
          },
          "metadata": {
            "needs_background": "light"
          }
        }
      ]
    },
    {
      "cell_type": "code",
      "source": [
        "# Inference latency plot\n",
        "\n",
        "plt.figure(figsize=(8, 6))\n",
        "\n",
        "plt.errorbar(100*np.array(ranks_and_times)[:,0],\n",
        "             np.array(ranks_and_times)[:,1],\n",
        "             np.array(ranks_and_times)[:,2],linestyle='None',marker='x',capsize=5)\n",
        "plt.title('Inference Latency in Factorized Space Model:', fontsize=20, pad='20.0')\n",
        "plt.xlabel('rank fraction [%]')\n",
        "plt.ylabel('inference latency [ms]')\n",
        "\n",
        "plt.show()"
      ],
      "metadata": {
        "colab": {
          "base_uri": "https://localhost:8080/",
          "height": 423
        },
        "id": "8MpZ1ZmkY715",
        "outputId": "8b3acbb4-5d9c-45c6-d1b5-8a22b11f94fe"
      },
      "execution_count": null,
      "outputs": [
        {
          "output_type": "display_data",
          "data": {
            "text/plain": [
              "<Figure size 576x432 with 1 Axes>"
            ],
            "image/png": "[encoded data removed]"
          },
          "metadata": {
            "needs_background": "light"
          }
        }
      ]
    },
    {
      "cell_type": "code",
      "source": [
        "plt.figure(figsize=(8, 6))\n",
        "\n",
        "plt.plot(100*np.array(ranks_and_times)[:,0],\n",
        "             np.array(ranks_and_mem)[:],linestyle='None',marker='x')\n",
        "\n",
        "plt.title('Parameter Memory in Factorized Space Model:', fontsize=20, pad='20.0')\n",
        "plt.xlabel('rank fraction [%]')\n",
        "plt.ylabel('memory usage [bytes]')\n",
        "\n",
        "plt.show()"
      ],
      "metadata": {
        "colab": {
          "base_uri": "https://localhost:8080/",
          "height": 423
        },
        "id": "zeiYshB5Ot0Z",
        "outputId": "de192217-f4ca-4681-9281-044acb2fc57e"
      },
      "execution_count": null,
      "outputs": [
        {
          "output_type": "display_data",
          "data": {
            "text/plain": [
              "<Figure size 576x432 with 1 Axes>"
            ],
            "image/png": "[encoded data removed]"
          },
          "metadata": {
            "needs_background": "light"
          }
        }
      ]
    },
    {
      "cell_type": "markdown",
      "metadata": {
        "id": "313ALwDu93k1"
      },
      "source": [
        "As expected (see above), we see a inference latency time reduction **linear** in the percentage rank of the weight matrices. \n",
        "\n",
        "It is also noteworthy that the inference speed of the original non-factorized space model sits between 50% and 60% in the factorized space version, again confirming the naive heuristics as well as the empirical matrix multiplication toy model.\n",
        " \n",
        "Lastly, we found that the memory usage of the parameters reduces by a factor linear in the percentage rank of the weight matrices (also confirming the space complexity heuristics).\n",
        "\n",
        "\n"
      ]
    },
    {
      "cell_type": "markdown",
      "metadata": {
        "id": "QHcBKkogM6uV"
      },
      "source": [
        "\n",
        "\n",
        "---\n",
        "\n"
      ]
    },
    {
      "cell_type": "markdown",
      "source": [
        "# 2. Retrain SVD factorized space models\n",
        "\n",
        "This will improve accuracy, while keeping latency low. As a proof of concept we retrain the smaller models below starting from the rank-reduced parameters."
      ],
      "metadata": {
        "id": "bVeBdXvVUvS1"
      }
    },
    {
      "cell_type": "code",
      "source": [
        "#net = hk.without_apply_rng(hk.transform(low_rank_net_fn_partial))\n",
        "\n",
        "rank_fraction_and_data=[]\n",
        "for rank_fraction in np.arange(0.5, 0.0, -0.1):\n",
        "\n",
        "  low_rank_net_fn_partial = partial(low_rank_net_fn, rank=rank_fraction)\n",
        "  net = hk.without_apply_rng(hk.transform(low_rank_net_fn_partial)) \n",
        "  low_rank_params = net.init(jax.random.PRNGKey(42), next(train))\n",
        "\n",
        "  print(f\"Evaluating the model at \" f\"{rank_fraction:.2f}\")\n",
        "\n",
        "  for layer in vanilla_to_low_rank_map.keys():\n",
        "    if 'conv' in layer:\n",
        "      low_rank_params[layer] = params[layer]\n",
        "      continue\n",
        "    weight = params[layer]['w']\n",
        "\n",
        "    u, v = rank_approximated_weight(weight, rank_fraction)\n",
        "    low_rank_params[vanilla_to_low_rank_map[layer][0]]['w'] = u\n",
        "    low_rank_params[vanilla_to_low_rank_map[layer][1]]['w'] = v\n",
        "    low_rank_params[vanilla_to_low_rank_map[layer][1]]['b'] = params[layer]['b']\n",
        "\n",
        "  #Training:\n",
        "  opt = optax.adam(1e-3)\n",
        "  opt_state = opt.init(low_rank_params)\n",
        "  low_rank_avg_params=low_rank_params\n",
        "  \n",
        "  acc_before_retraining=compute_accuracy(low_rank_params, next(test))\n",
        "\n",
        "  low_rank_best_test_accuracy=0\n",
        "  for step in range(2001):\n",
        "    if step % 100 == 0:\n",
        "      low_rank_val_accuracy = compute_accuracy(low_rank_avg_params, next(validation))\n",
        "      low_rank_test_accuracy = compute_accuracy(low_rank_avg_params, next(test))\n",
        "      \n",
        "      low_rank_val_accuracy, low_rank_test_accuracy = jax.device_get(\n",
        "          (low_rank_val_accuracy, low_rank_test_accuracy))\n",
        "\n",
        "      if low_rank_test_accuracy>low_rank_best_test_accuracy:\n",
        "        low_rank_best_params=low_rank_avg_params\n",
        "        low_rank_best_test_accuracy=low_rank_test_accuracy\n",
        "\n",
        "      if step %1000==0:  \n",
        "        print(f\"[Step {step}] Validation / Test accuracy: \"\n",
        "              f\"{low_rank_val_accuracy:.3f} / {low_rank_test_accuracy:.3f}.\")\n",
        "      \n",
        "    low_rank_params, opt_state = update(low_rank_params, opt_state, next(train))\n",
        "    low_rank_avg_params = ema_update(low_rank_params,low_rank_avg_params)\n",
        "  \n",
        "  lat_low_rank=latency_time(low_rank_best_params, next(test), 50)\n",
        "  acc_low_rank=compute_accuracy(low_rank_best_params, next(test))\n",
        "\n",
        "  #save data:\n",
        "  rank_fraction_and_data.append([rank_fraction,np.mean(lat_low_rank),np.std(lat_low_rank),acc_low_rank,acc_before_retraining])\n",
        "\n",
        "  #print summary:\n",
        "  print(f\"[Rank Fraction = {rank_fraction:.2f}] Latency (mean) = {np.mean(lat_low_rank):.2f},\"\n",
        "      f\"Latency (std) = {np.std(lat_low_rank):.2f},\"\n",
        "      f\"Accuracy (before) = {acc_before_retraining:.2f},\"\n",
        "      f\"Accuracy (after) = {acc_low_rank:.2f}.\")"
      ],
      "metadata": {
        "colab": {
          "base_uri": "https://localhost:8080/"
        },
        "id": "-D9eJK1ATXMG",
        "outputId": "90c1c2e4-32e6-468e-a94e-d9f1e95ebd42"
      },
      "execution_count": null,
      "outputs": [
        {
          "output_type": "stream",
          "name": "stdout",
          "text": [
            "Evaluating the model at 0.50\n",
            "[Step 0] Validation / Test accuracy: 0.805 / 0.563.\n",
            "[Step 1000] Validation / Test accuracy: 0.998 / 0.644.\n",
            "[Step 2000] Validation / Test accuracy: 1.000 / 0.654.\n",
            "[Rank Fraction = 0.50] Latency (mean) = 184.18,Latency (std) = 1.81,Accuracy (before) = 0.56,Accuracy (after) = 0.66.\n",
            "Evaluating the model at 0.40\n",
            "[Step 0] Validation / Test accuracy: 0.711 / 0.522.\n",
            "[Step 1000] Validation / Test accuracy: 0.975 / 0.620.\n",
            "[Step 2000] Validation / Test accuracy: 1.000 / 0.651.\n",
            "[Rank Fraction = 0.40] Latency (mean) = 165.42,Latency (std) = 1.53,Accuracy (before) = 0.52,Accuracy (after) = 0.65.\n",
            "Evaluating the model at 0.30\n",
            "[Step 0] Validation / Test accuracy: 0.651 / 0.488.\n",
            "[Step 1000] Validation / Test accuracy: 0.804 / 0.585.\n",
            "[Step 2000] Validation / Test accuracy: 0.420 / 0.315.\n",
            "[Rank Fraction = 0.30] Latency (mean) = 141.23,Latency (std) = 0.75,Accuracy (before) = 0.49,Accuracy (after) = 0.64.\n",
            "Evaluating the model at 0.20\n",
            "[Step 0] Validation / Test accuracy: 0.521 / 0.405.\n",
            "[Step 1000] Validation / Test accuracy: 0.691 / 0.507.\n",
            "[Step 2000] Validation / Test accuracy: 0.923 / 0.615.\n",
            "[Rank Fraction = 0.20] Latency (mean) = 121.12,Latency (std) = 0.57,Accuracy (before) = 0.41,Accuracy (after) = 0.61.\n",
            "Evaluating the model at 0.10\n",
            "[Step 0] Validation / Test accuracy: 0.203 / 0.188.\n",
            "[Step 1000] Validation / Test accuracy: 0.212 / 0.196.\n",
            "[Step 2000] Validation / Test accuracy: 0.399 / 0.301.\n",
            "[Rank Fraction = 0.10] Latency (mean) = 94.49,Latency (std) = 1.61,Accuracy (before) = 0.19,Accuracy (after) = 0.30.\n"
          ]
        }
      ]
    },
    {
      "cell_type": "markdown",
      "source": [
        "## Conclusions:"
      ],
      "metadata": {
        "id": "7GJ7WN9s1P2R"
      }
    },
    {
      "cell_type": "code",
      "source": [
        "plt.figure(figsize=(8, 6))\n",
        "\n",
        "plt.errorbar(100*np.array(ranks_and_times)[5:,0],\n",
        "             np.array(ranks_and_times)[5:,1],\n",
        "             np.array(ranks_and_times)[5:,2],linestyle='--',marker='x',capsize=5)\n",
        "\n",
        "plt.errorbar(100*np.array(rank_fraction_and_data)[:,0],\n",
        "             np.array(rank_fraction_and_data)[:,1],\n",
        "             np.array(rank_fraction_and_data)[:,2],linestyle='-',marker='x',capsize=5)\n",
        "\n",
        "plt.title('Latency (before and after retraining):', fontsize=20, pad='20.0')\n",
        "plt.xlabel('rank fraction [%]')\n",
        "plt.ylabel('inference latency [ms]')\n",
        "\n",
        "plt.show()"
      ],
      "metadata": {
        "colab": {
          "base_uri": "https://localhost:8080/",
          "height": 423
        },
        "id": "QorxRg-ZhFAa",
        "outputId": "6ba3ab27-6c7d-443b-8a55-e5c9c378c855"
      },
      "execution_count": null,
      "outputs": [
        {
          "output_type": "display_data",
          "data": {
            "text/plain": [
              "<Figure size 576x432 with 1 Axes>"
            ],
            "image/png": "[encoded data removed]"
          },
          "metadata": {
            "needs_background": "light"
          }
        }
      ]
    },
    {
      "cell_type": "code",
      "source": [
        "plt.figure(figsize=(8, 6))\n",
        "\n",
        "plt.plot(100*np.array(rank_fraction_and_data)[:,0],\n",
        "        100*np.array(rank_fraction_and_data)[:,3],linestyle='--',marker='x')\n",
        "\n",
        "plt.plot(100*np.array(rank_fraction_and_data)[:,0],\n",
        "        100*np.array(rank_fraction_and_data)[:,4],marker='x')\n",
        "\n",
        "plt.title('Factorized Space Model Accuracy (before and after retraining):', fontsize=20, pad='20.0')\n",
        "plt.xlabel('rank fraction [%]')\n",
        "plt.ylabel('accuracy [%]')\n",
        "\n",
        "plt.show()"
      ],
      "metadata": {
        "colab": {
          "base_uri": "https://localhost:8080/",
          "height": 423
        },
        "id": "iwf7Ba6lcesw",
        "outputId": "dfa61525-456b-473d-fbc4-b70856bb4953"
      },
      "execution_count": null,
      "outputs": [
        {
          "output_type": "display_data",
          "data": {
            "text/plain": [
              "<Figure size 576x432 with 1 Axes>"
            ],
            "image/png": "[encoded data removed]"
          },
          "metadata": {
            "needs_background": "light"
          }
        }
      ]
    },
    {
      "cell_type": "markdown",
      "source": [
        "**Comments:** This simple experiment suggests that retraining the smaller models can lead to a potentially marked improvement in accuracy while keeping the inference latency constant."
      ],
      "metadata": {
        "id": "YDGjCx2Fi33_"
      }
    },
    {
      "cell_type": "markdown",
      "metadata": {
        "id": "heuzqLLkzbKr"
      },
      "source": [
        "\n",
        "\n",
        "---\n",
        "\n"
      ]
    },
    {
      "cell_type": "markdown",
      "source": [
        "# 3. Knowledge Distillation\n",
        "\n",
        "We train a smaller (and faster) \"student model\" to match the output of the original (non-factorized space) \"teacher model\". We use the same architecture but simply reduce the number of nodes in the linear layers by a \"layer reduction factor\" = (10,20,50,100,200,500,1000). This decreases latency substantially while keeping some amount of accuracy. As a matter of fact it seems we hit a bottleneck for latency while still acheiving very high accuracy.\n",
        " \n",
        " \n",
        "I choose SGD to minimize the mean squared error (MSE) between the student predictions for the 10 classes and the \"teacher model\" output (plus an L2 regularization term). I know that in general a temperature-modified softmax function is used in distillation learning, but MSE loss works very well in the current example, seemed quite natrual to me and does not require an additional hyperparameter (such as temperature).\n",
        " \n"
      ],
      "metadata": {
        "id": "oyPln8pwedxb"
      }
    },
    {
      "cell_type": "markdown",
      "source": [
        "## Basic functions for student training"
      ],
      "metadata": {
        "id": "XR35UyOb1kSX"
      }
    },
    {
      "cell_type": "code",
      "source": [
        "def student_compute_loss(stud_parameters: hk.Params, batch: Batch) -> jnp.ndarray:\n",
        "  student_predictions = student_net.apply(stud_parameters, batch)\n",
        "  predictions = net_predict(batch)\n",
        "\n",
        "  l2_loss = 0.5*sum(jnp.sum(jnp.square(p)) for p in jax.tree_util.tree_leaves(stud_parameters))\n",
        "  \n",
        "  square_loss = jnp.sum(jnp.square(student_predictions-predictions))/(10*batch[1].shape[0])\n",
        "\n",
        "  return square_loss + (1e-4 * l2_loss)\n",
        "\n",
        "#@jax.jit\n",
        "def student_compute_accuracy(params: hk.Params, batch: Batch) -> jnp.ndarray:\n",
        "  stud_predictions = student_net.apply(params, batch)\n",
        "\n",
        "  stud_accuracy = jnp.mean(jnp.argmax(stud_predictions, axis=-1) == batch[1])\n",
        "  return stud_accuracy\n",
        "\n",
        "@jax.jit\n",
        "def student_update(\n",
        "    stud_parameters: hk.Params,\n",
        "    stud_opt_state: optax.OptState,\n",
        "    stud_batch: Batch) -> Tuple[hk.Params, optax.OptState]:\n",
        "  stud_grads = jax.grad(student_compute_loss)(stud_parameters, stud_batch)\n",
        "  stud_updates, stud_opt_state = opt.update(stud_grads, stud_opt_state)\n",
        "  stud_new_params = optax.apply_updates(stud_parameters, stud_updates)\n",
        "  return stud_new_params, stud_opt_state\n",
        "\n",
        "@jax.jit\n",
        "def student_ema_update(stud_params, stud_avg_params):\n",
        "  return optax.incremental_update(stud_params, stud_avg_params, step_size=0.001)\n",
        "\n",
        "def student_normalize(stud_images):\n",
        "  x = stud_images.astype(jnp.uint8) / 255.\n",
        "  x -= DATA_MEANS\n",
        "  x /= DATA_STD\n",
        "  return x\n",
        "\n",
        "@jax.jit\n",
        "def net_predict(x):\n",
        "  return net.apply(params, x)"
      ],
      "metadata": {
        "id": "lBaM0BdTebQ3"
      },
      "execution_count": null,
      "outputs": []
    },
    {
      "cell_type": "markdown",
      "source": [
        "## Student Timing"
      ],
      "metadata": {
        "id": "9GeKtr2s1f0z"
      }
    },
    {
      "cell_type": "code",
      "source": [
        "@jax.jit\n",
        "def student_predict(x, para):\n",
        "  return student_net.apply(para, x)\n",
        "\n",
        "starter = torch.cuda.Event(enable_timing=True)\n",
        "ender = torch.cuda.Event(enable_timing=True)\n",
        "\n",
        "def student_latency_time(parameters, batch, n_samples):\n",
        "\n",
        "  timings=np.zeros((n_samples,))\n",
        "  #warm-up\n",
        "  for _ in range(10):\n",
        "    _ = student_predict(batch,parameters)\n",
        "\n",
        "  with torch.no_grad():\n",
        "    for rep in range(n_samples):\n",
        "      starter.record()\n",
        "      _ = student_predict(batch,parameters)\n",
        "      ender.record()\n",
        "\n",
        "      torch.cuda.synchronize()\n",
        "      curr_time = starter.elapsed_time(ender)\n",
        "      timings[rep] = curr_time\n",
        "  \n",
        "  return timings"
      ],
      "metadata": {
        "id": "bCBdjuJg1ecT"
      },
      "execution_count": null,
      "outputs": []
    },
    {
      "cell_type": "markdown",
      "source": [
        "## Training"
      ],
      "metadata": {
        "id": "vos-PKKykK6G"
      }
    },
    {
      "cell_type": "code",
      "source": [
        "layer_reduction_data=[]\n",
        "\n",
        "for layer_reduction in [10,20,50,100]:\n",
        "  print('\\033[1m' + \n",
        "        f\"Student model with linear layer reduced by factor 1/\" f\"{layer_reduction}:\"+\n",
        "        '\\033[0m')\n",
        "\n",
        "  def student_net_fn(batch: Batch) -> jnp.ndarray:\n",
        "\n",
        "    x = normalize(batch[0])\n",
        "    \n",
        "    stud_net = hk.Sequential([\n",
        "        hk.Conv2D(output_channels=6*3, kernel_shape=(5,5)),\n",
        "        jax.nn.relu,\n",
        "        hk.AvgPool(window_shape=(2,2), strides=(2,2), padding='VALID'),\n",
        "        jax.nn.relu,\n",
        "        hk.Conv2D(output_channels=16*3, kernel_shape=(5,5)),\n",
        "        jax.nn.relu,\n",
        "        hk.AvgPool(window_shape=(2,2), strides=(2,2), padding='VALID'),\n",
        "        hk.Flatten(),\n",
        "        hk.Linear(3000//layer_reduction), jax.nn.relu,\n",
        "        hk.Linear(2000//layer_reduction), jax.nn.relu,\n",
        "        hk.Linear(2000//layer_reduction), jax.nn.relu,\n",
        "        hk.Linear(1000//layer_reduction), jax.nn.relu,\n",
        "        hk.Linear(10),\n",
        "    ])\n",
        "    return stud_net(x)\n",
        "\n",
        "  student_net = hk.without_apply_rng(hk.transform(student_net_fn))\n",
        "  opt = optax.adam(1e-3)\n",
        "\n",
        "  student_params = student_avg_params = student_net.init(jax.random.PRNGKey(42), next(train))\n",
        "  student_opt_state = opt.init(student_params)\n",
        "\n",
        "  student_best_test_accuracy=0\n",
        "\n",
        "  for step in range(5001):\n",
        "    if step % 100 == 0:\n",
        "      student_val_accuracy = student_compute_accuracy(student_avg_params, next(validation))\n",
        "      student_test_accuracy = student_compute_accuracy(student_avg_params, next(test))\n",
        "      \n",
        "      student_val_accuracy, student_test_accuracy = jax.device_get(\n",
        "          (student_val_accuracy, student_test_accuracy))\n",
        "\n",
        "      if student_test_accuracy>student_best_test_accuracy:\n",
        "        student_best_params=student_avg_params\n",
        "        student_best_test_accuracy=student_test_accuracy\n",
        "\n",
        "      if step %1000==0:  \n",
        "        print(f\"[Step {step}] Validation / Test accuracy: \"\n",
        "              f\"{student_val_accuracy:.3f} / {student_test_accuracy:.3f}.\")\n",
        "      \n",
        "    student_params, student_opt_state = student_update(student_params, student_opt_state, next(train))\n",
        "    student_avg_params = student_ema_update(student_params, student_avg_params)\n",
        "\n",
        "  student_reduction_latency=student_latency_time(student_best_params, next(test),100)\n",
        "\n",
        "  layer_reduction_data.append([layer_reduction,np.mean(student_reduction_latency),\n",
        "                               np.std(student_reduction_latency),student_best_test_accuracy,])\n",
        "  #print summary:\n",
        "  print(f\"[Layer Reduction = {layer_reduction}] Latency (mean) = {layer_reduction_data[-1][1]:.2f},\"\n",
        "      f\" Latency (std) = {layer_reduction_data[-1][2]:.2f},\"\n",
        "      f\" Accuracy = {layer_reduction_data[-1][3]:.2f}.\")"
      ],
      "metadata": {
        "colab": {
          "base_uri": "https://localhost:8080/"
        },
        "id": "gYJrik2kkJUp",
        "outputId": "1342e1d8-72cb-42da-8774-5a992458409e"
      },
      "execution_count": null,
      "outputs": [
        {
          "output_type": "stream",
          "name": "stdout",
          "text": [
            "\u001b[1mStudent model with linear layer reduced by factor 1/10:\u001b[0m\n"
          ]
        },
        {
          "output_type": "stream",
          "name": "stderr",
          "text": [
            "/usr/local/lib/python3.8/dist-packages/haiku/_src/base.py:515: UserWarning: Explicitly requested dtype float64 requested in zeros is not available, and will be truncated to dtype float32. To enable more dtypes, set the jax_enable_x64 configuration option or the JAX_ENABLE_X64 shell environment variable. See https://github.com/google/jax#current-gotchas for more.\n",
            "  param = init(shape, dtype)\n"
          ]
        },
        {
          "output_type": "stream",
          "name": "stdout",
          "text": [
            "[Step 0] Validation / Test accuracy: 0.100 / 0.101.\n",
            "[Step 1000] Validation / Test accuracy: 0.462 / 0.451.\n",
            "[Step 2000] Validation / Test accuracy: 0.765 / 0.631.\n",
            "[Step 3000] Validation / Test accuracy: 0.950 / 0.663.\n",
            "[Step 4000] Validation / Test accuracy: 0.971 / 0.657.\n",
            "[Step 5000] Validation / Test accuracy: 0.998 / 0.654.\n",
            "[Layer Reduction = 10] Latency (mean) = 80.57, Latency (std) = 1.74, Accuracy = 0.66.\n",
            "\u001b[1mStudent model with linear layer reduced by factor 1/20:\u001b[0m\n",
            "[Step 0] Validation / Test accuracy: 0.115 / 0.116.\n",
            "[Step 1000] Validation / Test accuracy: 0.404 / 0.397.\n",
            "[Step 2000] Validation / Test accuracy: 0.660 / 0.605.\n",
            "[Step 3000] Validation / Test accuracy: 0.803 / 0.662.\n",
            "[Step 4000] Validation / Test accuracy: 0.904 / 0.669.\n",
            "[Step 5000] Validation / Test accuracy: 0.960 / 0.658.\n",
            "[Layer Reduction = 20] Latency (mean) = 72.40, Latency (std) = 1.93, Accuracy = 0.67.\n",
            "\u001b[1mStudent model with linear layer reduced by factor 1/50:\u001b[0m\n",
            "[Step 0] Validation / Test accuracy: 0.088 / 0.087.\n",
            "[Step 1000] Validation / Test accuracy: 0.406 / 0.394.\n",
            "[Step 2000] Validation / Test accuracy: 0.573 / 0.554.\n",
            "[Step 3000] Validation / Test accuracy: 0.700 / 0.640.\n",
            "[Step 4000] Validation / Test accuracy: 0.774 / 0.663.\n",
            "[Step 5000] Validation / Test accuracy: 0.828 / 0.665.\n",
            "[Layer Reduction = 50] Latency (mean) = 68.25, Latency (std) = 1.76, Accuracy = 0.66.\n",
            "\u001b[1mStudent model with linear layer reduced by factor 1/100:\u001b[0m\n",
            "[Step 0] Validation / Test accuracy: 0.117 / 0.114.\n",
            "[Step 1000] Validation / Test accuracy: 0.273 / 0.268.\n",
            "[Step 2000] Validation / Test accuracy: 0.427 / 0.420.\n",
            "[Step 3000] Validation / Test accuracy: 0.552 / 0.536.\n",
            "[Step 4000] Validation / Test accuracy: 0.642 / 0.600.\n",
            "[Step 5000] Validation / Test accuracy: 0.688 / 0.628.\n",
            "[Layer Reduction = 100] Latency (mean) = 67.03, Latency (std) = 1.62, Accuracy = 0.63.\n"
          ]
        }
      ]
    },
    {
      "cell_type": "code",
      "source": [
        "#layer_reduction_data=[]\n",
        "\n",
        "for layer_reduction in [200,500,1000]:\n",
        "  print('\\033[1m' + \n",
        "        f\"Student model with linear layer reduced by factor 1/\" f\"{layer_reduction}:\"+\n",
        "        '\\033[0m')\n",
        "\n",
        "  def student_net_fn(batch: Batch) -> jnp.ndarray:\n",
        "\n",
        "    x = normalize(batch[0])\n",
        "    \n",
        "    net = hk.Sequential([\n",
        "        hk.Conv2D(output_channels=6*3, kernel_shape=(5,5)),\n",
        "        jax.nn.relu,\n",
        "        hk.AvgPool(window_shape=(2,2), strides=(2,2), padding='VALID'),\n",
        "        jax.nn.relu,\n",
        "        hk.Conv2D(output_channels=16*3, kernel_shape=(5,5)),\n",
        "        jax.nn.relu,\n",
        "        hk.AvgPool(window_shape=(2,2), strides=(2,2), padding='VALID'),\n",
        "        hk.Flatten(),\n",
        "        hk.Linear(3000//layer_reduction), jax.nn.relu,\n",
        "        hk.Linear(2000//layer_reduction), jax.nn.relu,\n",
        "        hk.Linear(2000//layer_reduction), jax.nn.relu,\n",
        "        hk.Linear(1000//layer_reduction), jax.nn.relu,\n",
        "        hk.Linear(10),\n",
        "    ])\n",
        "    return net(x)\n",
        "\n",
        "  student_net = hk.without_apply_rng(hk.transform(student_net_fn))\n",
        "  net = hk.without_apply_rng(hk.transform(net_fn))\n",
        "  opt = optax.adam(1e-3)\n",
        "\n",
        "  student_params = student_avg_params = student_net.init(jax.random.PRNGKey(42), next(train))\n",
        "  student_opt_state = opt.init(student_params)\n",
        "\n",
        "  student_best_test_accuracy=0\n",
        "\n",
        "  for step in range(5001):\n",
        "    if step % 100 == 0:\n",
        "      student_val_accuracy = student_compute_accuracy(student_avg_params, next(validation))\n",
        "      student_test_accuracy = student_compute_accuracy(student_avg_params, next(test))\n",
        "      \n",
        "      student_val_accuracy, student_test_accuracy = jax.device_get(\n",
        "          (student_val_accuracy, student_test_accuracy))\n",
        "\n",
        "      if student_test_accuracy>student_best_test_accuracy:\n",
        "        student_best_params=student_avg_params\n",
        "        student_best_test_accuracy=student_test_accuracy\n",
        "\n",
        "      if step %1000==0:  \n",
        "        print(f\"[Step {step}] Validation / Test accuracy: \"\n",
        "              f\"{student_val_accuracy:.3f} / {student_test_accuracy:.3f}.\")\n",
        "      \n",
        "    student_params, student_opt_state = student_update(student_params, student_opt_state, next(train))\n",
        "    student_avg_params = student_ema_update(student_params, student_avg_params)\n",
        "\n",
        "  student_reduction_latency=student_latency_time(student_best_params, next(test),100)\n",
        "\n",
        "  layer_reduction_data.append([layer_reduction,np.mean(student_reduction_latency),\n",
        "                               np.std(student_reduction_latency),student_best_test_accuracy,])\n",
        "  #print summary:\n",
        "  print(f\"[Layer Reduction = {layer_reduction}] Latency (mean) = {layer_reduction_data[-1][1]:.2f},\"\n",
        "      f\" Latency (std) = {layer_reduction_data[-1][2]:.2f},\"\n",
        "      f\" Accuracy = {layer_reduction_data[-1][3]:.2f}.\")"
      ],
      "metadata": {
        "colab": {
          "base_uri": "https://localhost:8080/"
        },
        "id": "KBSvFSwl8pgI",
        "outputId": "676b27d5-fbdb-4ab5-fb31-51913379d61d"
      },
      "execution_count": null,
      "outputs": [
        {
          "output_type": "stream",
          "name": "stdout",
          "text": [
            "\u001b[1mStudent model with linear layer reduced by factor 1/200:\u001b[0m\n",
            "[Step 0] Validation / Test accuracy: 0.104 / 0.097.\n",
            "[Step 1000] Validation / Test accuracy: 0.106 / 0.101.\n",
            "[Step 2000] Validation / Test accuracy: 0.208 / 0.206.\n",
            "[Step 3000] Validation / Test accuracy: 0.225 / 0.219.\n",
            "[Step 4000] Validation / Test accuracy: 0.232 / 0.221.\n",
            "[Step 5000] Validation / Test accuracy: 0.232 / 0.222.\n",
            "[Layer Reduction = 200] Latency (mean) = 67.01, Latency (std) = 1.70, Accuracy = 0.22.\n",
            "\u001b[1mStudent model with linear layer reduced by factor 1/500:\u001b[0m\n",
            "[Step 0] Validation / Test accuracy: 0.108 / 0.109.\n",
            "[Step 1000] Validation / Test accuracy: 0.057 / 0.054.\n",
            "[Step 2000] Validation / Test accuracy: 0.173 / 0.174.\n",
            "[Step 3000] Validation / Test accuracy: 0.249 / 0.241.\n",
            "[Step 4000] Validation / Test accuracy: 0.267 / 0.251.\n",
            "[Step 5000] Validation / Test accuracy: 0.314 / 0.291.\n",
            "[Layer Reduction = 500] Latency (mean) = 66.47, Latency (std) = 1.49, Accuracy = 0.29.\n",
            "\u001b[1mStudent model with linear layer reduced by factor 1/1000:\u001b[0m\n",
            "[Step 0] Validation / Test accuracy: 0.110 / 0.111.\n",
            "[Step 1000] Validation / Test accuracy: 0.101 / 0.100.\n",
            "[Step 2000] Validation / Test accuracy: 0.100 / 0.100.\n",
            "[Step 3000] Validation / Test accuracy: 0.100 / 0.100.\n",
            "[Step 4000] Validation / Test accuracy: 0.138 / 0.135.\n",
            "[Step 5000] Validation / Test accuracy: 0.199 / 0.189.\n",
            "[Layer Reduction = 1000] Latency (mean) = 66.59, Latency (std) = 1.64, Accuracy = 0.19.\n"
          ]
        }
      ]
    },
    {
      "cell_type": "markdown",
      "source": [
        "## Conclusions:"
      ],
      "metadata": {
        "id": "LeaM8hju1D1U"
      }
    },
    {
      "cell_type": "code",
      "source": [
        "plt.figure(figsize=(8, 6))\n",
        "\n",
        "plt.plot(np.array(layer_reduction_data)[:,0],\n",
        "        100*np.array(layer_reduction_data)[:,3],linestyle='--',marker='x')\n",
        "\n",
        "plt.title('Student Model Accuracy vs Layer reduction:', fontsize=20, pad='20.0')\n",
        "plt.xlabel('1/layer reduction')\n",
        "plt.ylabel('accuracy [%]')\n",
        "\n",
        "plt.show()"
      ],
      "metadata": {
        "colab": {
          "base_uri": "https://localhost:8080/",
          "height": 423
        },
        "id": "lWcmUgKb58S4",
        "outputId": "c098d048-c54e-4b8d-c944-78fc6777ef65"
      },
      "execution_count": null,
      "outputs": [
        {
          "output_type": "display_data",
          "data": {
            "text/plain": [
              "<Figure size 576x432 with 1 Axes>"
            ],
            "image/png": "[encoded data removed]"
          },
          "metadata": {
            "needs_background": "light"
          }
        }
      ]
    },
    {
      "cell_type": "code",
      "source": [
        "plt.figure(figsize=(8, 6))\n",
        "\n",
        "plt.errorbar(np.array(layer_reduction_data)[:,0],\n",
        "             np.array(layer_reduction_data)[:,1],\n",
        "             np.array(layer_reduction_data)[:,2],linestyle='--',marker='x',capsize=5)\n",
        "\n",
        "plt.title('Student Model Latency vs Layer reduction:', fontsize=20, pad='20.0')\n",
        "plt.xlabel('1/layer reduction')\n",
        "plt.ylabel('inference latency [ms]')\n",
        "\n",
        "plt.show()"
      ],
      "metadata": {
        "colab": {
          "base_uri": "https://localhost:8080/",
          "height": 423
        },
        "id": "sXduZ2Gx6Nw0",
        "outputId": "be722400-8449-4105-a3a6-ec9bf7eef3c1"
      },
      "execution_count": null,
      "outputs": [
        {
          "output_type": "display_data",
          "data": {
            "text/plain": [
              "<Figure size 576x432 with 1 Axes>"
            ],
            "image/png": "[encoded data removed]"
          },
          "metadata": {
            "needs_background": "light"
          }
        }
      ]
    },
    {
      "cell_type": "code",
      "source": [
        "plt.figure(figsize=(8, 6))\n",
        "\n",
        "plt.plot(np.array(layer_reduction_data)[:,1],\n",
        "        100*np.array(layer_reduction_data)[:,3],linestyle='--',marker='x')\n",
        "\n",
        "plt.title('Student Model Latency vs accuracy:', fontsize=20, pad='20.0')\n",
        "plt.ylabel('accuracy [%]')\n",
        "plt.xlabel('inference latency [ms]')\n",
        "\n",
        "plt.show()"
      ],
      "metadata": {
        "colab": {
          "base_uri": "https://localhost:8080/",
          "height": 423
        },
        "id": "qNJuZaLK_aR_",
        "outputId": "b7c71946-23dd-4012-eefb-80017aef7907"
      },
      "execution_count": null,
      "outputs": [
        {
          "output_type": "display_data",
          "data": {
            "text/plain": [
              "<Figure size 576x432 with 1 Axes>"
            ],
            "image/png": "[encoded data removed]"
          },
          "metadata": {
            "needs_background": "light"
          }
        }
      ]
    },
    {
      "cell_type": "markdown",
      "source": [
        "**Comments:** We empirically observe a substantial reduction of memory usage of the parameters of the model, linear in the layer reduction factor."
      ],
      "metadata": {
        "id": "aFRHHPomKasi"
      }
    },
    {
      "cell_type": "markdown",
      "source": [
        "**Comments:** We see that the accuracy remains almost constant up to 1/100 layer reduction, while the latency asymptotes to $\\sim$ 68 ms (bottleneck from the convolution layers). In this example, if we pick a reduction factor of 1/50, we are able to reduce latency to roughly $\\sim$ 70ms while preserving virtually the same accuracy as in the original \"teacher model\". Thus, we are outperforming the SVD approach substantially.\n",
        "\n",
        "The next step would be to check whether a similar reduction of the convolution layers would result in a speedup (without accuracy loss)."
      ],
      "metadata": {
        "id": "Vy0p5dhU0i8f"
      }
    },
    {
      "cell_type": "markdown",
      "source": [
        "####Memory:"
      ],
      "metadata": {
        "id": "r5FUC-B20i8o"
      }
    },
    {
      "cell_type": "code",
      "source": [
        "mem=[]\n",
        "for layer_reduction in [10,20,50,100,200,500,1000]:\n",
        "\n",
        "  def student_net_fn(batch: Batch) -> jnp.ndarray:\n",
        "    x = normalize(batch[0])\n",
        "    \n",
        "    net = hk.Sequential([\n",
        "        hk.Conv2D(output_channels=6*3, kernel_shape=(5,5)),\n",
        "        jax.nn.relu,\n",
        "        hk.AvgPool(window_shape=(2,2), strides=(2,2), padding='VALID'),\n",
        "        jax.nn.relu,\n",
        "        hk.Conv2D(output_channels=16*3, kernel_shape=(5,5)),\n",
        "        jax.nn.relu,\n",
        "        hk.AvgPool(window_shape=(2,2), strides=(2,2), padding='VALID'),\n",
        "        hk.Flatten(),\n",
        "        hk.Linear(3000//layer_reduction), jax.nn.relu,\n",
        "        hk.Linear(2000//layer_reduction), jax.nn.relu,\n",
        "        hk.Linear(2000//layer_reduction), jax.nn.relu,\n",
        "        hk.Linear(1000//layer_reduction), jax.nn.relu,\n",
        "        hk.Linear(10),\n",
        "    ])\n",
        "    return net(x)\n",
        "\n",
        "  student_net = hk.without_apply_rng(hk.transform(student_net_fn))\n",
        "  student_params = student_net.init(jax.random.PRNGKey(42), next(train))\n",
        "\n",
        "  mem_t=sum(p.nbytes for p in jax.tree_util.tree_leaves(params))\n",
        "  mem_st=sum(p.nbytes for p in jax.tree_util.tree_leaves(student_params))\n",
        "  mem.append(mem_t/mem_st)\n",
        "  print(f\"Memory space of teacher model: {mem_t}\\n\"\n",
        "        f\"Memory space of student model ({layer_reduction} reduction factor): {mem_st}\\n\"\n",
        "        f\"Memory space of teacher/student model: {mem_t/mem_st}\\n\")"
      ],
      "metadata": {
        "colab": {
          "base_uri": "https://localhost:8080/"
        },
        "outputId": "709efcff-4206-40be-d341-63698167fe35",
        "id": "JsXO_gbY0i8p"
      },
      "execution_count": null,
      "outputs": [
        {
          "output_type": "stream",
          "name": "stderr",
          "text": [
            "/usr/local/lib/python3.7/dist-packages/haiku/_src/base.py:515: UserWarning: Explicitly requested dtype float64 requested in zeros is not available, and will be truncated to dtype float32. To enable more dtypes, set the jax_enable_x64 configuration option or the JAX_ENABLE_X64 shell environment variable. See https://github.com/google/jax#current-gotchas for more.\n",
            "  param = init(shape, dtype)\n"
          ]
        },
        {
          "output_type": "stream",
          "name": "stdout",
          "text": [
            "Memory space of teacher model: 121848904\n",
            "Memory space of student model (10 reduction factor): 7908904\n",
            "Memory space of teacher/student model: 15.406547354728291\n",
            "\n",
            "Memory space of teacher model: 121848904\n",
            "Memory space of student model (20 reduction factor): 3858904\n",
            "Memory space of teacher/student model: 31.576039206987268\n",
            "\n",
            "Memory space of teacher model: 121848904\n",
            "Memory space of student model (50 reduction factor): 1544104\n",
            "Memory space of teacher/student model: 78.91236859693389\n",
            "\n",
            "Memory space of teacher model: 121848904\n",
            "Memory space of student model (100 reduction factor): 791704\n",
            "Memory space of teacher/student model: 153.90714711558866\n",
            "\n",
            "Memory space of teacher model: 121848904\n",
            "Memory space of student model (200 reduction factor): 419104\n",
            "Memory space of teacher/student model: 290.7366763380927\n",
            "\n",
            "Memory space of teacher model: 121848904\n",
            "Memory space of student model (500 reduction factor): 196696\n",
            "Memory space of teacher/student model: 619.478301541465\n",
            "\n",
            "Memory space of teacher model: 121848904\n",
            "Memory space of student model (1000 reduction factor): 122752\n",
            "Memory space of teacher/student model: 992.6429223149114\n",
            "\n"
          ]
        }
      ]
    },
    {
      "cell_type": "code",
      "source": [
        "plt.figure(figsize=(8, 6))\n",
        "\n",
        "plt.plot(np.array([10,20,50,100,200,500,1000]),\n",
        "             np.array(mem),linestyle='None',marker='x')\n",
        "\n",
        "plt.title('Parameter Memory in Student Model:', fontsize=20, pad='20.0')\n",
        "plt.xlabel('1/layer reduction')\n",
        "plt.ylabel('memory usage [bytes]')\n",
        "\n",
        "plt.show()"
      ],
      "metadata": {
        "colab": {
          "base_uri": "https://localhost:8080/",
          "height": 423
        },
        "outputId": "4140bc4b-b4a4-42a0-b924-6a6460216340",
        "id": "-GTnqoZY0i8p"
      },
      "execution_count": null,
      "outputs": [
        {
          "output_type": "display_data",
          "data": {
            "text/plain": [
              "<Figure size 576x432 with 1 Axes>"
            ],
            "image/png": "[encoded data removed]"
          },
          "metadata": {
            "needs_background": "light"
          }
        }
      ]
    },
    {
      "cell_type": "markdown",
      "source": [
        "**Comments:** We empirically observe a substantial reduction of memory usage of the parameters of the model, linear in the layer reduction factor."
      ],
      "metadata": {
        "id": "h6Nzau3b0i8q"
      }
    },
    {
      "cell_type": "markdown",
      "metadata": {
        "id": "SO9eAG4zzdrV"
      },
      "source": [
        "\n",
        "\n",
        "---\n",
        "\n"
      ]
    },
    {
      "cell_type": "markdown",
      "source": [
        "# 4. (linear layers) Pruning\n",
        " \n",
        "I tried some naive form of pruning of the weight matrices. I did not find any speedups in the inference latency, even though the weight matrices become very sparse. I would have to implement sparse matrix multiplication in JAX (I could not find anything suitable online).\n",
        " \n",
        "It is noteworthy that the accuracy barely drops even though we set 99.9% of the weights in the linear layers to zero. So if we can achieve a significant inference speedup this could be promising.\n"
      ],
      "metadata": {
        "id": "z5_ZaUCef5hJ"
      }
    },
    {
      "cell_type": "code",
      "source": [
        "from jax.experimental import sparse\n",
        "\n",
        "from scipy.sparse import coo_matrix\n",
        "\n",
        "#from scipy.sparse import dok_array\n",
        "\n",
        "linear_layers=list(params.keys())[2:]\n",
        "non_linear_layers=list(params.keys())[:2]"
      ],
      "metadata": {
        "id": "T1gvJcLm8X5r"
      },
      "execution_count": 61,
      "outputs": []
    },
    {
      "cell_type": "code",
      "source": [
        "sorted_list_params={}\n",
        "\n",
        "def pruned_weight(weight, prune_frac,layer):\n",
        "  if layer in sorted_list_params:\n",
        "    Wtest_list=sorted_list_params[(layer,wb)]\n",
        "  else:\n",
        "    Wtest_list=jnp.sort(abs(weight.reshape(1,-1)))[0]\n",
        "    #sorted_list_params[(layer,wb)]=Wtest_list\n",
        "  \n",
        "  prune_size=jax.device_get(Wtest_list[int(len(Wtest_list)*(1-prune_frac))])\n",
        "  Wfinal=weight.at[abs(weight)<prune_size].set(0)\n",
        "  return Wfinal #sparse.BCOO.fromdense(Wfinal)"
      ],
      "metadata": {
        "id": "9veogS9uR-iC"
      },
      "execution_count": 12,
      "outputs": []
    },
    {
      "cell_type": "code",
      "source": [
        "og_model_mem = sum(p.nbytes for p in jax.tree_util.tree_leaves(params))"
      ],
      "metadata": {
        "id": "oLBQD6dcH7NU"
      },
      "execution_count": 15,
      "outputs": []
    },
    {
      "cell_type": "code",
      "source": [
        "prune_truncated_params_coo['linear_1']['w']"
      ],
      "metadata": {
        "colab": {
          "base_uri": "https://localhost:8080/"
        },
        "id": "nG_4jiO1KX7I",
        "outputId": "82d15e3e-3d15-4cd9-f319-0e9a34394bb4"
      },
      "execution_count": 47,
      "outputs": [
        {
          "output_type": "execute_result",
          "data": {
            "text/plain": [
              "<3000x2000 sparse matrix of type '<class 'numpy.float32'>'\n",
              "\twith 600000 stored elements in Compressed Sparse Row format>"
            ]
          },
          "metadata": {},
          "execution_count": 47
        }
      ]
    },
    {
      "cell_type": "code",
      "source": [
        "mattt=prune_truncated_params_coo['linear_2']['w']\n",
        "\n",
        "mattt.data.nbytes "
      ],
      "metadata": {
        "colab": {
          "base_uri": "https://localhost:8080/"
        },
        "id": "GjxhYauYK2X1",
        "outputId": "1469f710-1b8d-450d-f090-d75ddd693c39"
      },
      "execution_count": 50,
      "outputs": [
        {
          "output_type": "execute_result",
          "data": {
            "text/plain": [
              "1600000"
            ]
          },
          "metadata": {},
          "execution_count": 50
        }
      ]
    },
    {
      "cell_type": "code",
      "source": [
        "net = hk.without_apply_rng(hk.transform(net_fn))\n",
        "test_batch=next(test)\n",
        "\n",
        "prune_and_times=[]\n",
        "prune_and_accuracies=[]\n",
        "prune_and_mem=[]\n",
        "prune_truncated_params = deepcopy(params)\n",
        "prune_truncated_params_coo = deepcopy(params)\n",
        "\n",
        "og_test_accuracy, og_durations = compute_eval_metrics(params,test_batch, 50)\n",
        "og_duration = np.mean(og_durations)\n",
        "\n",
        "for prune_frac in [0.1,0.05, 0.01,0.00025]:\n",
        "  for layer in params.keys():\n",
        "    if 'conv' in layer:\n",
        "      continue\n",
        "    for wb in {'w','b'}:\n",
        "      weight = params[layer][wb]\n",
        "      w_prune = pruned_weight(weight, prune_frac, layer)\n",
        "      prune_truncated_params_coo[layer][wb] = coo_matrix(w_prune).tocsr()\n",
        "      prune_truncated_params[layer][wb] = w_prune\n",
        "    \n",
        "  test_accuracy, duration = compute_eval_metrics(prune_truncated_params,test_batch, 50)\n",
        "\n",
        "  prune_and_times.append((prune_frac, np.mean(duration), np.std(duration)))\n",
        "  prune_and_accuracies.append((prune_frac, np.mean(test_accuracy)))\n",
        "\n",
        "  mem = (sum(p.data.nbytes for p in [prune_truncated_params_coo[l][bw] for l in linear_layers for bw in ['b','w']])+\\\n",
        "        sum(p.nbytes for p in [prune_truncated_params_coo[l][bw] for l in non_linear_layers for bw in ['b','w']]))/float(og_model_mem)\n",
        "  prune_and_mem.append((prune_frac, mem))\n",
        "\n",
        "  print(f\"Prune Fraction / Test accuracy %: \"\n",
        "          f\"{prune_frac:.4f} / {np.mean(test_accuracy)/og_test_accuracy:.4f}.\")\n",
        "  print(f\"Prune Fraction / Duration %: \"\n",
        "          f\"{prune_frac:.4f} / {np.mean(duration)/og_duration:.4f}.\")\n",
        "  print(f\"Prune Fraction / Memory  %: \"\n",
        "          f\"{prune_frac:.4f} / {mem:.4f}.\")\n",
        "  print('---------------------------------------------------------------------------')"
      ],
      "metadata": {
        "colab": {
          "base_uri": "https://localhost:8080/"
        },
        "id": "8ySshgHdE0fW",
        "outputId": "21f1e8b5-d67f-402e-f75a-9b1da2a972de"
      },
      "execution_count": 68,
      "outputs": [
        {
          "output_type": "stream",
          "name": "stdout",
          "text": [
            "Prune Fraction / Test accuracy %: 0.1000 / 0.9586.\n",
            "Prune Fraction / Duration %: 0.1000 / 0.9269.\n",
            "Prune Fraction / Memory  %: 0.1000 / 0.1004.\n",
            "---------------------------------------------------------------------------\n",
            "Prune Fraction / Test accuracy %: 0.0500 / 0.8979.\n",
            "Prune Fraction / Duration %: 0.0500 / 0.9065.\n",
            "Prune Fraction / Memory  %: 0.0500 / 0.0504.\n",
            "---------------------------------------------------------------------------\n",
            "Prune Fraction / Test accuracy %: 0.0100 / 0.2204.\n",
            "Prune Fraction / Duration %: 0.0100 / 0.8881.\n",
            "Prune Fraction / Memory  %: 0.0100 / 0.0104.\n",
            "---------------------------------------------------------------------------\n",
            "Prune Fraction / Test accuracy %: 0.0003 / 0.1538.\n",
            "Prune Fraction / Duration %: 0.0003 / 0.8632.\n",
            "Prune Fraction / Memory  %: 0.0003 / 0.0007.\n",
            "---------------------------------------------------------------------------\n"
          ]
        }
      ]
    },
    {
      "cell_type": "markdown",
      "source": [
        "## Toy example for inference timing:"
      ],
      "metadata": {
        "id": "BIK6haftRmFP"
      }
    },
    {
      "cell_type": "code",
      "source": [
        "def trunc_net_fn(batch: Batch) -> jnp.ndarray:\n",
        "  x = normalize(batch[0])\n",
        "  \n",
        "  net = hk.Sequential([\n",
        "      hk.Conv2D(output_channels=6*3, kernel_shape=(5,5)),\n",
        "      jax.nn.relu,\n",
        "      hk.AvgPool(window_shape=(2,2), strides=(2,2), padding='VALID'),\n",
        "      jax.nn.relu,\n",
        "      hk.Conv2D(output_channels=16*3, kernel_shape=(5,5)),\n",
        "      jax.nn.relu,\n",
        "      hk.AvgPool(window_shape=(2,2), strides=(2,2), padding='VALID'),\n",
        "      hk.Flatten()\n",
        "  ])\n",
        "  return net(x)\n",
        "\n",
        "trunc_net = hk.without_apply_rng(hk.transform(trunc_net_fn))"
      ],
      "metadata": {
        "id": "PhrJkqFiKur6"
      },
      "execution_count": 74,
      "outputs": []
    },
    {
      "cell_type": "code",
      "source": [
        "trunc_params = prune_truncated_params"
      ],
      "metadata": {
        "id": "viF29t3NR0nB"
      },
      "execution_count": null,
      "outputs": []
    },
    {
      "cell_type": "code",
      "source": [
        "def relu(x):\n",
        "  return np.maximum(0, x)"
      ],
      "metadata": {
        "id": "cmdtkIl3TXvP"
      },
      "execution_count": 71,
      "outputs": []
    },
    {
      "cell_type": "code",
      "source": [
        "n_samples=1000\n",
        "\n",
        "out0=coo_matrix(trunc_net.apply(trunc_params, batch)).tocsr()[0]\n",
        "\n",
        "A0=prune_truncated_params_coo['linear']['w']\n",
        "b0=prune_truncated_params_coo['linear']['b']\n",
        "A1=prune_truncated_params_coo['linear_1']['w']\n",
        "b1=prune_truncated_params_coo['linear_1']['b']\n",
        "A2=prune_truncated_params_coo['linear_2']['w']\n",
        "b2=prune_truncated_params_coo['linear_2']['b']\n",
        "A3=prune_truncated_params_coo['linear_3']['w']\n",
        "b3=prune_truncated_params_coo['linear_3']['b']\n",
        "A4=prune_truncated_params_coo['linear_4']['w']\n",
        "b4=prune_truncated_params_coo['linear_4']['b']\n",
        "\n",
        "timings=np.zeros((n_samples,))\n",
        "#warm-up\n",
        "for _ in range(10):\n",
        "  _ = (((((out0@A0).maximum(0)@A1+b1).maximum(0)@A2+b2).maximum(0)@A3+b3).maximum(0)@A4+b4).maximum(0)\n",
        "\n",
        "with torch.no_grad():\n",
        "  for rep in range(n_samples):\n",
        "    starter.record()\n",
        "    _ = (((((out0@A0).maximum(0)@A1+b1).maximum(0)@A2+b2).maximum(0)@A3+b3).maximum(0)@A4+b4).maximum(0)\n",
        "    ender.record()\n",
        "\n",
        "    torch.cuda.synchronize()\n",
        "    curr_time = starter.elapsed_time(ender)\n",
        "    timings[rep] = curr_time\n",
        "\n",
        "print('sparse:', np.mean(timings),np.std(timings))\n",
        "\n",
        "out0=trunc_net.apply(trunc_params, batch)[0]\n",
        "\n",
        "A0=params['linear']['w']\n",
        "b0=params['linear']['b']\n",
        "A1=params['linear_1']['w']\n",
        "b1=params['linear_1']['b']\n",
        "A2=params['linear_2']['w']\n",
        "b2=params['linear_2']['b']\n",
        "A3=params['linear_3']['w']\n",
        "b3=params['linear_3']['b']\n",
        "A4=params['linear_4']['w']\n",
        "b4=params['linear_4']['b']\n",
        "\n",
        "timings=np.zeros((n_samples,))\n",
        "#warm-up\n",
        "for _ in range(10):\n",
        " _ = relu(relu(relu(relu(relu(out0@A0)@A1+b1)@A2+b2)@A3+b3)@A4+b4)\n",
        "\n",
        "with torch.no_grad():\n",
        "  for rep in range(n_samples):\n",
        "    starter.record()\n",
        "    _ = relu(relu(relu(relu(relu(out0@A0)@A1+b1)@A2+b2)@A3+b3)@A4+b4)\n",
        "    ender.record()\n",
        "\n",
        "    torch.cuda.synchronize()\n",
        "    curr_time = starter.elapsed_time(ender)\n",
        "    timings[rep] = curr_time\n",
        "\n",
        "print('dense:', np.mean(timings),np.std(timings))"
      ],
      "metadata": {
        "colab": {
          "base_uri": "https://localhost:8080/"
        },
        "id": "gi8obk5CJCqB",
        "outputId": "2e497cfc-9457-4fc8-c5b0-fe8d460df96e"
      },
      "execution_count": 92,
      "outputs": [
        {
          "output_type": "stream",
          "name": "stdout",
          "text": [
            "sparse: 2.426904354214668 2.790485601785916\n",
            "dense: 2.2121717773675917 0.7190216054235828\n"
          ]
        }
      ]
    },
    {
      "cell_type": "code",
      "source": [
        " @jax.jit\n",
        "def compute_pruned_net(trunc_params,batch):\n",
        "  out=coo_matrix(trunc_net.apply(trunc_params, batch)).tocsr()\n",
        "  outb=coo_matrix(np.ones(out.shape[0]).reshape(-1,1)).tocsr()\n",
        "  for layer in linear_layers:\n",
        "    out_temp=out@trunc_params[layer]['w']+outb@trunc_params[layer]['b']\n",
        "    out=out_temp.maximum(0)\n",
        "\n",
        "  return out\n",
        "\n",
        "@jax.jit\n",
        "def comp_net(params,batch):\n",
        "  return net.apply(params,batch)"
      ],
      "metadata": {
        "id": "ByFuESqtMVRT"
      },
      "execution_count": 93,
      "outputs": []
    },
    {
      "cell_type": "code",
      "source": [
        "n_samples=1000\n",
        "trunc_params=prune_truncated_params_coo\n",
        "\n",
        "batch=next(test)\n",
        "out0=coo_matrix(trunc_net.apply(trunc_params, batch)).tocsr()[0]\n",
        "outb=coo_matrix(np.ones(out0.shape[0]).reshape(-1,1)).tocsr()\n",
        "\n",
        "\n",
        "timings=np.zeros((n_samples,))\n",
        "#warm-up\n",
        "for _ in range(10):\n",
        "  out=out0\n",
        "  for layer in linear_layers:\n",
        "    out_temp=out@trunc_params[layer]['w']+outb@trunc_params[layer]['b']\n",
        "    out=out_temp.maximum(0)\n",
        "\n",
        "\n",
        "with torch.no_grad():\n",
        "  for rep in range(n_samples):\n",
        "\n",
        "    starter.record()\n",
        "\n",
        "    out=out0\n",
        "    for layer in linear_layers:\n",
        "      out_temp=out@trunc_params[layer]['w']+outb@trunc_params[layer]['b']\n",
        "      out=out_temp.maximum(0)\n",
        "\n",
        "    ender.record()\n",
        "\n",
        "    torch.cuda.synchronize()\n",
        "    curr_time = starter.elapsed_time(ender)\n",
        "    timings[rep] = curr_time\n",
        "\n",
        "print(np.mean(timings),np.std(timings))"
      ],
      "metadata": {
        "colab": {
          "base_uri": "https://localhost:8080/"
        },
        "id": "nW87AMJYdHhC",
        "outputId": "fdd85bf7-2b85-4fee-8af4-cd6609bd3741"
      },
      "execution_count": 104,
      "outputs": [
        {
          "output_type": "stream",
          "name": "stdout",
          "text": [
            "2.5749866248369218 1.2885197329827793\n"
          ]
        }
      ]
    },
    {
      "cell_type": "code",
      "source": [
        "n_samples=1000\n",
        "\n",
        "batch=next(test)\n",
        "out0=trunc_net.apply(params, batch)[0]\n",
        "outb=jnp.ones(out0.shape[0]).reshape(-1,1)\n",
        "\n",
        "timings=np.zeros((n_samples,))\n",
        "#warm-up\n",
        "for _ in range(10):\n",
        "\n",
        "  out=out0\n",
        "  for layer in linear_layers:\n",
        "    out_temp=out@params[layer]['w']+params[layer]['b']\n",
        "    out=relu(out_temp)\n",
        "\n",
        "\n",
        "with torch.no_grad():\n",
        "  for rep in range(n_samples):\n",
        "\n",
        "    starter.record()\n",
        "    \n",
        "    out=out0\n",
        "    for layer in linear_layers:\n",
        "      out_temp=out@params[layer]['w']+params[layer]['b']\n",
        "      out=relu(out_temp)\n",
        "\n",
        "    ender.record()\n",
        "\n",
        "    torch.cuda.synchronize()\n",
        "    curr_time = starter.elapsed_time(ender)\n",
        "    timings[rep] = curr_time\n",
        "\n",
        "print(np.mean(timings),np.std(timings))"
      ],
      "metadata": {
        "colab": {
          "base_uri": "https://localhost:8080/"
        },
        "id": "9zG5TPAGevvJ",
        "outputId": "2388c1cc-38d8-46d3-d47e-ce6103ad0346"
      },
      "execution_count": 105,
      "outputs": [
        {
          "output_type": "stream",
          "name": "stdout",
          "text": [
            "2.3314254693984986 0.6533769531413954\n"
          ]
        }
      ]
    },
    {
      "cell_type": "markdown",
      "source": [
        "Continue: 1. implement sparse matrix computation, 2. compare inference timing"
      ],
      "metadata": {
        "id": "0-CoVt2jWgDx"
      }
    },
    {
      "cell_type": "code",
      "source": [],
      "metadata": {
        "id": "l3xF7yEnWzE2"
      },
      "execution_count": null,
      "outputs": []
    }
  ],
  "metadata": {
    "accelerator": "GPU",
    "colab": {
      "collapsed_sections": [
        "pr-zeP9bggVa"
      ],
      "provenance": [],
      "toc_visible": true,
      "include_colab_link": true
    },
    "gpuClass": "standard",
    "kernelspec": {
      "display_name": "Python 3",
      "name": "python3"
    },
    "language_info": {
      "name": "python"
    },
    "widgets": {
      "application/vnd.jupyter.widget-state+json": {
        "757c668d69f64bb1a5d1b73105f4fc81": {
          "model_module": "@jupyter-widgets/controls",
          "model_name": "HBoxModel",
          "model_module_version": "1.5.0",
          "state": {
            "_dom_classes": [],
            "_model_module": "@jupyter-widgets/controls",
            "_model_module_version": "1.5.0",
            "_model_name": "HBoxModel",
            "_view_count": null,
            "_view_module": "@jupyter-widgets/controls",
            "_view_module_version": "1.5.0",
            "_view_name": "HBoxView",
            "box_style": "",
            "children": [
              "IPY_MODEL_661d01f016604adfa397f69e954d566a",
              "IPY_MODEL_03266418b2c04b44bf162a4a7b007ca9",
              "IPY_MODEL_1b1a937d7daa4722ba7be4e893702ec6"
            ],
            "layout": "IPY_MODEL_9d44c3d7a7dd4b3997f4724547206fce"
          }
        },
        "661d01f016604adfa397f69e954d566a": {
          "model_module": "@jupyter-widgets/controls",
          "model_name": "HTMLModel",
          "model_module_version": "1.5.0",
          "state": {
            "_dom_classes": [],
            "_model_module": "@jupyter-widgets/controls",
            "_model_module_version": "1.5.0",
            "_model_name": "HTMLModel",
            "_view_count": null,
            "_view_module": "@jupyter-widgets/controls",
            "_view_module_version": "1.5.0",
            "_view_name": "HTMLView",
            "description": "",
            "description_tooltip": null,
            "layout": "IPY_MODEL_b4d279d38cec477db480d465f448dcb9",
            "placeholder": "​",
            "style": "IPY_MODEL_da0586fd96364cb89a7552e76a9adb21",
            "value": "Dl Completed...: 100%"
          }
        },
        "03266418b2c04b44bf162a4a7b007ca9": {
          "model_module": "@jupyter-widgets/controls",
          "model_name": "FloatProgressModel",
          "model_module_version": "1.5.0",
          "state": {
            "_dom_classes": [],
            "_model_module": "@jupyter-widgets/controls",
            "_model_module_version": "1.5.0",
            "_model_name": "FloatProgressModel",
            "_view_count": null,
            "_view_module": "@jupyter-widgets/controls",
            "_view_module_version": "1.5.0",
            "_view_name": "ProgressView",
            "bar_style": "success",
            "description": "",
            "description_tooltip": null,
            "layout": "IPY_MODEL_a51c84f18a394950a9aee9322882c1af",
            "max": 1,
            "min": 0,
            "orientation": "horizontal",
            "style": "IPY_MODEL_82a031d924654d8dbd4c8bbca09cba81",
            "value": 1
          }
        },
        "1b1a937d7daa4722ba7be4e893702ec6": {
          "model_module": "@jupyter-widgets/controls",
          "model_name": "HTMLModel",
          "model_module_version": "1.5.0",
          "state": {
            "_dom_classes": [],
            "_model_module": "@jupyter-widgets/controls",
            "_model_module_version": "1.5.0",
            "_model_name": "HTMLModel",
            "_view_count": null,
            "_view_module": "@jupyter-widgets/controls",
            "_view_module_version": "1.5.0",
            "_view_name": "HTMLView",
            "description": "",
            "description_tooltip": null,
            "layout": "IPY_MODEL_54154cf261504cd587b0c4a6a82bb599",
            "placeholder": "​",
            "style": "IPY_MODEL_00171443759a4ae68c086e358b3cc557",
            "value": " 1/1 [00:18&lt;00:00, 15.96s/ url]"
          }
        },
        "9d44c3d7a7dd4b3997f4724547206fce": {
          "model_module": "@jupyter-widgets/base",
          "model_name": "LayoutModel",
          "model_module_version": "1.2.0",
          "state": {
            "_model_module": "@jupyter-widgets/base",
            "_model_module_version": "1.2.0",
            "_model_name": "LayoutModel",
            "_view_count": null,
            "_view_module": "@jupyter-widgets/base",
            "_view_module_version": "1.2.0",
            "_view_name": "LayoutView",
            "align_content": null,
            "align_items": null,
            "align_self": null,
            "border": null,
            "bottom": null,
            "display": null,
            "flex": null,
            "flex_flow": null,
            "grid_area": null,
            "grid_auto_columns": null,
            "grid_auto_flow": null,
            "grid_auto_rows": null,
            "grid_column": null,
            "grid_gap": null,
            "grid_row": null,
            "grid_template_areas": null,
            "grid_template_columns": null,
            "grid_template_rows": null,
            "height": null,
            "justify_content": null,
            "justify_items": null,
            "left": null,
            "margin": null,
            "max_height": null,
            "max_width": null,
            "min_height": null,
            "min_width": null,
            "object_fit": null,
            "object_position": null,
            "order": null,
            "overflow": null,
            "overflow_x": null,
            "overflow_y": null,
            "padding": null,
            "right": null,
            "top": null,
            "visibility": null,
            "width": null
          }
        },
        "b4d279d38cec477db480d465f448dcb9": {
          "model_module": "@jupyter-widgets/base",
          "model_name": "LayoutModel",
          "model_module_version": "1.2.0",
          "state": {
            "_model_module": "@jupyter-widgets/base",
            "_model_module_version": "1.2.0",
            "_model_name": "LayoutModel",
            "_view_count": null,
            "_view_module": "@jupyter-widgets/base",
            "_view_module_version": "1.2.0",
            "_view_name": "LayoutView",
            "align_content": null,
            "align_items": null,
            "align_self": null,
            "border": null,
            "bottom": null,
            "display": null,
            "flex": null,
            "flex_flow": null,
            "grid_area": null,
            "grid_auto_columns": null,
            "grid_auto_flow": null,
            "grid_auto_rows": null,
            "grid_column": null,
            "grid_gap": null,
            "grid_row": null,
            "grid_template_areas": null,
            "grid_template_columns": null,
            "grid_template_rows": null,
            "height": null,
            "justify_content": null,
            "justify_items": null,
            "left": null,
            "margin": null,
            "max_height": null,
            "max_width": null,
            "min_height": null,
            "min_width": null,
            "object_fit": null,
            "object_position": null,
            "order": null,
            "overflow": null,
            "overflow_x": null,
            "overflow_y": null,
            "padding": null,
            "right": null,
            "top": null,
            "visibility": null,
            "width": null
          }
        },
        "da0586fd96364cb89a7552e76a9adb21": {
          "model_module": "@jupyter-widgets/controls",
          "model_name": "DescriptionStyleModel",
          "model_module_version": "1.5.0",
          "state": {
            "_model_module": "@jupyter-widgets/controls",
            "_model_module_version": "1.5.0",
            "_model_name": "DescriptionStyleModel",
            "_view_count": null,
            "_view_module": "@jupyter-widgets/base",
            "_view_module_version": "1.2.0",
            "_view_name": "StyleView",
            "description_width": ""
          }
        },
        "a51c84f18a394950a9aee9322882c1af": {
          "model_module": "@jupyter-widgets/base",
          "model_name": "LayoutModel",
          "model_module_version": "1.2.0",
          "state": {
            "_model_module": "@jupyter-widgets/base",
            "_model_module_version": "1.2.0",
            "_model_name": "LayoutModel",
            "_view_count": null,
            "_view_module": "@jupyter-widgets/base",
            "_view_module_version": "1.2.0",
            "_view_name": "LayoutView",
            "align_content": null,
            "align_items": null,
            "align_self": null,
            "border": null,
            "bottom": null,
            "display": null,
            "flex": null,
            "flex_flow": null,
            "grid_area": null,
            "grid_auto_columns": null,
            "grid_auto_flow": null,
            "grid_auto_rows": null,
            "grid_column": null,
            "grid_gap": null,
            "grid_row": null,
            "grid_template_areas": null,
            "grid_template_columns": null,
            "grid_template_rows": null,
            "height": null,
            "justify_content": null,
            "justify_items": null,
            "left": null,
            "margin": null,
            "max_height": null,
            "max_width": null,
            "min_height": null,
            "min_width": null,
            "object_fit": null,
            "object_position": null,
            "order": null,
            "overflow": null,
            "overflow_x": null,
            "overflow_y": null,
            "padding": null,
            "right": null,
            "top": null,
            "visibility": null,
            "width": "20px"
          }
        },
        "82a031d924654d8dbd4c8bbca09cba81": {
          "model_module": "@jupyter-widgets/controls",
          "model_name": "ProgressStyleModel",
          "model_module_version": "1.5.0",
          "state": {
            "_model_module": "@jupyter-widgets/controls",
            "_model_module_version": "1.5.0",
            "_model_name": "ProgressStyleModel",
            "_view_count": null,
            "_view_module": "@jupyter-widgets/base",
            "_view_module_version": "1.2.0",
            "_view_name": "StyleView",
            "bar_color": null,
            "description_width": ""
          }
        },
        "54154cf261504cd587b0c4a6a82bb599": {
          "model_module": "@jupyter-widgets/base",
          "model_name": "LayoutModel",
          "model_module_version": "1.2.0",
          "state": {
            "_model_module": "@jupyter-widgets/base",
            "_model_module_version": "1.2.0",
            "_model_name": "LayoutModel",
            "_view_count": null,
            "_view_module": "@jupyter-widgets/base",
            "_view_module_version": "1.2.0",
            "_view_name": "LayoutView",
            "align_content": null,
            "align_items": null,
            "align_self": null,
            "border": null,
            "bottom": null,
            "display": null,
            "flex": null,
            "flex_flow": null,
            "grid_area": null,
            "grid_auto_columns": null,
            "grid_auto_flow": null,
            "grid_auto_rows": null,
            "grid_column": null,
            "grid_gap": null,
            "grid_row": null,
            "grid_template_areas": null,
            "grid_template_columns": null,
            "grid_template_rows": null,
            "height": null,
            "justify_content": null,
            "justify_items": null,
            "left": null,
            "margin": null,
            "max_height": null,
            "max_width": null,
            "min_height": null,
            "min_width": null,
            "object_fit": null,
            "object_position": null,
            "order": null,
            "overflow": null,
            "overflow_x": null,
            "overflow_y": null,
            "padding": null,
            "right": null,
            "top": null,
            "visibility": null,
            "width": null
          }
        },
        "00171443759a4ae68c086e358b3cc557": {
          "model_module": "@jupyter-widgets/controls",
          "model_name": "DescriptionStyleModel",
          "model_module_version": "1.5.0",
          "state": {
            "_model_module": "@jupyter-widgets/controls",
            "_model_module_version": "1.5.0",
            "_model_name": "DescriptionStyleModel",
            "_view_count": null,
            "_view_module": "@jupyter-widgets/base",
            "_view_module_version": "1.2.0",
            "_view_name": "StyleView",
            "description_width": ""
          }
        },
        "b5df09b2e5c7447f9241c5a7a2bf58cc": {
          "model_module": "@jupyter-widgets/controls",
          "model_name": "HBoxModel",
          "model_module_version": "1.5.0",
          "state": {
            "_dom_classes": [],
            "_model_module": "@jupyter-widgets/controls",
            "_model_module_version": "1.5.0",
            "_model_name": "HBoxModel",
            "_view_count": null,
            "_view_module": "@jupyter-widgets/controls",
            "_view_module_version": "1.5.0",
            "_view_name": "HBoxView",
            "box_style": "",
            "children": [
              "IPY_MODEL_332592fc0b1844b0b262edb00911e80e",
              "IPY_MODEL_adddda94c5944c21b8f54b71bb564b95",
              "IPY_MODEL_e7a4b3e44aa74c0d833fc1f5749579c2"
            ],
            "layout": "IPY_MODEL_dce0d2d3126e452fb1dd4047e0487536"
          }
        },
        "332592fc0b1844b0b262edb00911e80e": {
          "model_module": "@jupyter-widgets/controls",
          "model_name": "HTMLModel",
          "model_module_version": "1.5.0",
          "state": {
            "_dom_classes": [],
            "_model_module": "@jupyter-widgets/controls",
            "_model_module_version": "1.5.0",
            "_model_name": "HTMLModel",
            "_view_count": null,
            "_view_module": "@jupyter-widgets/controls",
            "_view_module_version": "1.5.0",
            "_view_name": "HTMLView",
            "description": "",
            "description_tooltip": null,
            "layout": "IPY_MODEL_8fb3fbf072934a31959f40905fdaa1cf",
            "placeholder": "​",
            "style": "IPY_MODEL_b5bc6998045749d88f59b8cc0c10da71",
            "value": "Dl Size...: 100%"
          }
        },
        "adddda94c5944c21b8f54b71bb564b95": {
          "model_module": "@jupyter-widgets/controls",
          "model_name": "FloatProgressModel",
          "model_module_version": "1.5.0",
          "state": {
            "_dom_classes": [],
            "_model_module": "@jupyter-widgets/controls",
            "_model_module_version": "1.5.0",
            "_model_name": "FloatProgressModel",
            "_view_count": null,
            "_view_module": "@jupyter-widgets/controls",
            "_view_module_version": "1.5.0",
            "_view_name": "ProgressView",
            "bar_style": "success",
            "description": "",
            "description_tooltip": null,
            "layout": "IPY_MODEL_12885c8a762b44cda0b4e4c2ebb9fb8c",
            "max": 1,
            "min": 0,
            "orientation": "horizontal",
            "style": "IPY_MODEL_d0aef8785f3941dd842144086c2fd85e",
            "value": 1
          }
        },
        "e7a4b3e44aa74c0d833fc1f5749579c2": {
          "model_module": "@jupyter-widgets/controls",
          "model_name": "HTMLModel",
          "model_module_version": "1.5.0",
          "state": {
            "_dom_classes": [],
            "_model_module": "@jupyter-widgets/controls",
            "_model_module_version": "1.5.0",
            "_model_name": "HTMLModel",
            "_view_count": null,
            "_view_module": "@jupyter-widgets/controls",
            "_view_module_version": "1.5.0",
            "_view_name": "HTMLView",
            "description": "",
            "description_tooltip": null,
            "layout": "IPY_MODEL_40b65e48b2be445e86fe7917df68bbdd",
            "placeholder": "​",
            "style": "IPY_MODEL_42b848caa6f747a2ada2482a71f20e2a",
            "value": " 162/162 [00:18&lt;00:00, 12.68 MiB/s]"
          }
        },
        "dce0d2d3126e452fb1dd4047e0487536": {
          "model_module": "@jupyter-widgets/base",
          "model_name": "LayoutModel",
          "model_module_version": "1.2.0",
          "state": {
            "_model_module": "@jupyter-widgets/base",
            "_model_module_version": "1.2.0",
            "_model_name": "LayoutModel",
            "_view_count": null,
            "_view_module": "@jupyter-widgets/base",
            "_view_module_version": "1.2.0",
            "_view_name": "LayoutView",
            "align_content": null,
            "align_items": null,
            "align_self": null,
            "border": null,
            "bottom": null,
            "display": null,
            "flex": null,
            "flex_flow": null,
            "grid_area": null,
            "grid_auto_columns": null,
            "grid_auto_flow": null,
            "grid_auto_rows": null,
            "grid_column": null,
            "grid_gap": null,
            "grid_row": null,
            "grid_template_areas": null,
            "grid_template_columns": null,
            "grid_template_rows": null,
            "height": null,
            "justify_content": null,
            "justify_items": null,
            "left": null,
            "margin": null,
            "max_height": null,
            "max_width": null,
            "min_height": null,
            "min_width": null,
            "object_fit": null,
            "object_position": null,
            "order": null,
            "overflow": null,
            "overflow_x": null,
            "overflow_y": null,
            "padding": null,
            "right": null,
            "top": null,
            "visibility": null,
            "width": null
          }
        },
        "8fb3fbf072934a31959f40905fdaa1cf": {
          "model_module": "@jupyter-widgets/base",
          "model_name": "LayoutModel",
          "model_module_version": "1.2.0",
          "state": {
            "_model_module": "@jupyter-widgets/base",
            "_model_module_version": "1.2.0",
            "_model_name": "LayoutModel",
            "_view_count": null,
            "_view_module": "@jupyter-widgets/base",
            "_view_module_version": "1.2.0",
            "_view_name": "LayoutView",
            "align_content": null,
            "align_items": null,
            "align_self": null,
            "border": null,
            "bottom": null,
            "display": null,
            "flex": null,
            "flex_flow": null,
            "grid_area": null,
            "grid_auto_columns": null,
            "grid_auto_flow": null,
            "grid_auto_rows": null,
            "grid_column": null,
            "grid_gap": null,
            "grid_row": null,
            "grid_template_areas": null,
            "grid_template_columns": null,
            "grid_template_rows": null,
            "height": null,
            "justify_content": null,
            "justify_items": null,
            "left": null,
            "margin": null,
            "max_height": null,
            "max_width": null,
            "min_height": null,
            "min_width": null,
            "object_fit": null,
            "object_position": null,
            "order": null,
            "overflow": null,
            "overflow_x": null,
            "overflow_y": null,
            "padding": null,
            "right": null,
            "top": null,
            "visibility": null,
            "width": null
          }
        },
        "b5bc6998045749d88f59b8cc0c10da71": {
          "model_module": "@jupyter-widgets/controls",
          "model_name": "DescriptionStyleModel",
          "model_module_version": "1.5.0",
          "state": {
            "_model_module": "@jupyter-widgets/controls",
            "_model_module_version": "1.5.0",
            "_model_name": "DescriptionStyleModel",
            "_view_count": null,
            "_view_module": "@jupyter-widgets/base",
            "_view_module_version": "1.2.0",
            "_view_name": "StyleView",
            "description_width": ""
          }
        },
        "12885c8a762b44cda0b4e4c2ebb9fb8c": {
          "model_module": "@jupyter-widgets/base",
          "model_name": "LayoutModel",
          "model_module_version": "1.2.0",
          "state": {
            "_model_module": "@jupyter-widgets/base",
            "_model_module_version": "1.2.0",
            "_model_name": "LayoutModel",
            "_view_count": null,
            "_view_module": "@jupyter-widgets/base",
            "_view_module_version": "1.2.0",
            "_view_name": "LayoutView",
            "align_content": null,
            "align_items": null,
            "align_self": null,
            "border": null,
            "bottom": null,
            "display": null,
            "flex": null,
            "flex_flow": null,
            "grid_area": null,
            "grid_auto_columns": null,
            "grid_auto_flow": null,
            "grid_auto_rows": null,
            "grid_column": null,
            "grid_gap": null,
            "grid_row": null,
            "grid_template_areas": null,
            "grid_template_columns": null,
            "grid_template_rows": null,
            "height": null,
            "justify_content": null,
            "justify_items": null,
            "left": null,
            "margin": null,
            "max_height": null,
            "max_width": null,
            "min_height": null,
            "min_width": null,
            "object_fit": null,
            "object_position": null,
            "order": null,
            "overflow": null,
            "overflow_x": null,
            "overflow_y": null,
            "padding": null,
            "right": null,
            "top": null,
            "visibility": null,
            "width": "20px"
          }
        },
        "d0aef8785f3941dd842144086c2fd85e": {
          "model_module": "@jupyter-widgets/controls",
          "model_name": "ProgressStyleModel",
          "model_module_version": "1.5.0",
          "state": {
            "_model_module": "@jupyter-widgets/controls",
            "_model_module_version": "1.5.0",
            "_model_name": "ProgressStyleModel",
            "_view_count": null,
            "_view_module": "@jupyter-widgets/base",
            "_view_module_version": "1.2.0",
            "_view_name": "StyleView",
            "bar_color": null,
            "description_width": ""
          }
        },
        "40b65e48b2be445e86fe7917df68bbdd": {
          "model_module": "@jupyter-widgets/base",
          "model_name": "LayoutModel",
          "model_module_version": "1.2.0",
          "state": {
            "_model_module": "@jupyter-widgets/base",
            "_model_module_version": "1.2.0",
            "_model_name": "LayoutModel",
            "_view_count": null,
            "_view_module": "@jupyter-widgets/base",
            "_view_module_version": "1.2.0",
            "_view_name": "LayoutView",
            "align_content": null,
            "align_items": null,
            "align_self": null,
            "border": null,
            "bottom": null,
            "display": null,
            "flex": null,
            "flex_flow": null,
            "grid_area": null,
            "grid_auto_columns": null,
            "grid_auto_flow": null,
            "grid_auto_rows": null,
            "grid_column": null,
            "grid_gap": null,
            "grid_row": null,
            "grid_template_areas": null,
            "grid_template_columns": null,
            "grid_template_rows": null,
            "height": null,
            "justify_content": null,
            "justify_items": null,
            "left": null,
            "margin": null,
            "max_height": null,
            "max_width": null,
            "min_height": null,
            "min_width": null,
            "object_fit": null,
            "object_position": null,
            "order": null,
            "overflow": null,
            "overflow_x": null,
            "overflow_y": null,
            "padding": null,
            "right": null,
            "top": null,
            "visibility": null,
            "width": null
          }
        },
        "42b848caa6f747a2ada2482a71f20e2a": {
          "model_module": "@jupyter-widgets/controls",
          "model_name": "DescriptionStyleModel",
          "model_module_version": "1.5.0",
          "state": {
            "_model_module": "@jupyter-widgets/controls",
            "_model_module_version": "1.5.0",
            "_model_name": "DescriptionStyleModel",
            "_view_count": null,
            "_view_module": "@jupyter-widgets/base",
            "_view_module_version": "1.2.0",
            "_view_name": "StyleView",
            "description_width": ""
          }
        },
        "b61c96baf65d49f0abe35678f5cf3cc5": {
          "model_module": "@jupyter-widgets/controls",
          "model_name": "HBoxModel",
          "model_module_version": "1.5.0",
          "state": {
            "_dom_classes": [],
            "_model_module": "@jupyter-widgets/controls",
            "_model_module_version": "1.5.0",
            "_model_name": "HBoxModel",
            "_view_count": null,
            "_view_module": "@jupyter-widgets/controls",
            "_view_module_version": "1.5.0",
            "_view_name": "HBoxView",
            "box_style": "",
            "children": [
              "IPY_MODEL_1e8e7159610e4d079933f68721c8c687",
              "IPY_MODEL_ee1c5cbc0eb4432da726cbace4b20e87",
              "IPY_MODEL_b8b2b7b321444d42b5a462793fe41d88"
            ],
            "layout": "IPY_MODEL_b5bf3d53ca7f473892d56a4441ce7d4a"
          }
        },
        "1e8e7159610e4d079933f68721c8c687": {
          "model_module": "@jupyter-widgets/controls",
          "model_name": "HTMLModel",
          "model_module_version": "1.5.0",
          "state": {
            "_dom_classes": [],
            "_model_module": "@jupyter-widgets/controls",
            "_model_module_version": "1.5.0",
            "_model_name": "HTMLModel",
            "_view_count": null,
            "_view_module": "@jupyter-widgets/controls",
            "_view_module_version": "1.5.0",
            "_view_name": "HTMLView",
            "description": "",
            "description_tooltip": null,
            "layout": "IPY_MODEL_f54530fccca540b0a268b19666432575",
            "placeholder": "​",
            "style": "IPY_MODEL_9dd3fd7c66ce4ff6a530505e129c4295",
            "value": "Extraction completed...: 100%"
          }
        },
        "ee1c5cbc0eb4432da726cbace4b20e87": {
          "model_module": "@jupyter-widgets/controls",
          "model_name": "FloatProgressModel",
          "model_module_version": "1.5.0",
          "state": {
            "_dom_classes": [],
            "_model_module": "@jupyter-widgets/controls",
            "_model_module_version": "1.5.0",
            "_model_name": "FloatProgressModel",
            "_view_count": null,
            "_view_module": "@jupyter-widgets/controls",
            "_view_module_version": "1.5.0",
            "_view_name": "ProgressView",
            "bar_style": "success",
            "description": "",
            "description_tooltip": null,
            "layout": "IPY_MODEL_dff04fcabf5746beb83779f45bde5cf4",
            "max": 1,
            "min": 0,
            "orientation": "horizontal",
            "style": "IPY_MODEL_cca68d0490614e2a9818a402d47100fb",
            "value": 1
          }
        },
        "b8b2b7b321444d42b5a462793fe41d88": {
          "model_module": "@jupyter-widgets/controls",
          "model_name": "HTMLModel",
          "model_module_version": "1.5.0",
          "state": {
            "_dom_classes": [],
            "_model_module": "@jupyter-widgets/controls",
            "_model_module_version": "1.5.0",
            "_model_name": "HTMLModel",
            "_view_count": null,
            "_view_module": "@jupyter-widgets/controls",
            "_view_module_version": "1.5.0",
            "_view_name": "HTMLView",
            "description": "",
            "description_tooltip": null,
            "layout": "IPY_MODEL_a2d6d1238c0449228aedf68e5c0c0e32",
            "placeholder": "​",
            "style": "IPY_MODEL_6ae7a40e826745e48428766b8874699a",
            "value": " 8/8 [00:18&lt;00:00, 18.48s/ file]"
          }
        },
        "b5bf3d53ca7f473892d56a4441ce7d4a": {
          "model_module": "@jupyter-widgets/base",
          "model_name": "LayoutModel",
          "model_module_version": "1.2.0",
          "state": {
            "_model_module": "@jupyter-widgets/base",
            "_model_module_version": "1.2.0",
            "_model_name": "LayoutModel",
            "_view_count": null,
            "_view_module": "@jupyter-widgets/base",
            "_view_module_version": "1.2.0",
            "_view_name": "LayoutView",
            "align_content": null,
            "align_items": null,
            "align_self": null,
            "border": null,
            "bottom": null,
            "display": null,
            "flex": null,
            "flex_flow": null,
            "grid_area": null,
            "grid_auto_columns": null,
            "grid_auto_flow": null,
            "grid_auto_rows": null,
            "grid_column": null,
            "grid_gap": null,
            "grid_row": null,
            "grid_template_areas": null,
            "grid_template_columns": null,
            "grid_template_rows": null,
            "height": null,
            "justify_content": null,
            "justify_items": null,
            "left": null,
            "margin": null,
            "max_height": null,
            "max_width": null,
            "min_height": null,
            "min_width": null,
            "object_fit": null,
            "object_position": null,
            "order": null,
            "overflow": null,
            "overflow_x": null,
            "overflow_y": null,
            "padding": null,
            "right": null,
            "top": null,
            "visibility": null,
            "width": null
          }
        },
        "f54530fccca540b0a268b19666432575": {
          "model_module": "@jupyter-widgets/base",
          "model_name": "LayoutModel",
          "model_module_version": "1.2.0",
          "state": {
            "_model_module": "@jupyter-widgets/base",
            "_model_module_version": "1.2.0",
            "_model_name": "LayoutModel",
            "_view_count": null,
            "_view_module": "@jupyter-widgets/base",
            "_view_module_version": "1.2.0",
            "_view_name": "LayoutView",
            "align_content": null,
            "align_items": null,
            "align_self": null,
            "border": null,
            "bottom": null,
            "display": null,
            "flex": null,
            "flex_flow": null,
            "grid_area": null,
            "grid_auto_columns": null,
            "grid_auto_flow": null,
            "grid_auto_rows": null,
            "grid_column": null,
            "grid_gap": null,
            "grid_row": null,
            "grid_template_areas": null,
            "grid_template_columns": null,
            "grid_template_rows": null,
            "height": null,
            "justify_content": null,
            "justify_items": null,
            "left": null,
            "margin": null,
            "max_height": null,
            "max_width": null,
            "min_height": null,
            "min_width": null,
            "object_fit": null,
            "object_position": null,
            "order": null,
            "overflow": null,
            "overflow_x": null,
            "overflow_y": null,
            "padding": null,
            "right": null,
            "top": null,
            "visibility": null,
            "width": null
          }
        },
        "9dd3fd7c66ce4ff6a530505e129c4295": {
          "model_module": "@jupyter-widgets/controls",
          "model_name": "DescriptionStyleModel",
          "model_module_version": "1.5.0",
          "state": {
            "_model_module": "@jupyter-widgets/controls",
            "_model_module_version": "1.5.0",
            "_model_name": "DescriptionStyleModel",
            "_view_count": null,
            "_view_module": "@jupyter-widgets/base",
            "_view_module_version": "1.2.0",
            "_view_name": "StyleView",
            "description_width": ""
          }
        },
        "dff04fcabf5746beb83779f45bde5cf4": {
          "model_module": "@jupyter-widgets/base",
          "model_name": "LayoutModel",
          "model_module_version": "1.2.0",
          "state": {
            "_model_module": "@jupyter-widgets/base",
            "_model_module_version": "1.2.0",
            "_model_name": "LayoutModel",
            "_view_count": null,
            "_view_module": "@jupyter-widgets/base",
            "_view_module_version": "1.2.0",
            "_view_name": "LayoutView",
            "align_content": null,
            "align_items": null,
            "align_self": null,
            "border": null,
            "bottom": null,
            "display": null,
            "flex": null,
            "flex_flow": null,
            "grid_area": null,
            "grid_auto_columns": null,
            "grid_auto_flow": null,
            "grid_auto_rows": null,
            "grid_column": null,
            "grid_gap": null,
            "grid_row": null,
            "grid_template_areas": null,
            "grid_template_columns": null,
            "grid_template_rows": null,
            "height": null,
            "justify_content": null,
            "justify_items": null,
            "left": null,
            "margin": null,
            "max_height": null,
            "max_width": null,
            "min_height": null,
            "min_width": null,
            "object_fit": null,
            "object_position": null,
            "order": null,
            "overflow": null,
            "overflow_x": null,
            "overflow_y": null,
            "padding": null,
            "right": null,
            "top": null,
            "visibility": null,
            "width": "20px"
          }
        },
        "cca68d0490614e2a9818a402d47100fb": {
          "model_module": "@jupyter-widgets/controls",
          "model_name": "ProgressStyleModel",
          "model_module_version": "1.5.0",
          "state": {
            "_model_module": "@jupyter-widgets/controls",
            "_model_module_version": "1.5.0",
            "_model_name": "ProgressStyleModel",
            "_view_count": null,
            "_view_module": "@jupyter-widgets/base",
            "_view_module_version": "1.2.0",
            "_view_name": "StyleView",
            "bar_color": null,
            "description_width": ""
          }
        },
        "a2d6d1238c0449228aedf68e5c0c0e32": {
          "model_module": "@jupyter-widgets/base",
          "model_name": "LayoutModel",
          "model_module_version": "1.2.0",
          "state": {
            "_model_module": "@jupyter-widgets/base",
            "_model_module_version": "1.2.0",
            "_model_name": "LayoutModel",
            "_view_count": null,
            "_view_module": "@jupyter-widgets/base",
            "_view_module_version": "1.2.0",
            "_view_name": "LayoutView",
            "align_content": null,
            "align_items": null,
            "align_self": null,
            "border": null,
            "bottom": null,
            "display": null,
            "flex": null,
            "flex_flow": null,
            "grid_area": null,
            "grid_auto_columns": null,
            "grid_auto_flow": null,
            "grid_auto_rows": null,
            "grid_column": null,
            "grid_gap": null,
            "grid_row": null,
            "grid_template_areas": null,
            "grid_template_columns": null,
            "grid_template_rows": null,
            "height": null,
            "justify_content": null,
            "justify_items": null,
            "left": null,
            "margin": null,
            "max_height": null,
            "max_width": null,
            "min_height": null,
            "min_width": null,
            "object_fit": null,
            "object_position": null,
            "order": null,
            "overflow": null,
            "overflow_x": null,
            "overflow_y": null,
            "padding": null,
            "right": null,
            "top": null,
            "visibility": null,
            "width": null
          }
        },
        "6ae7a40e826745e48428766b8874699a": {
          "model_module": "@jupyter-widgets/controls",
          "model_name": "DescriptionStyleModel",
          "model_module_version": "1.5.0",
          "state": {
            "_model_module": "@jupyter-widgets/controls",
            "_model_module_version": "1.5.0",
            "_model_name": "DescriptionStyleModel",
            "_view_count": null,
            "_view_module": "@jupyter-widgets/base",
            "_view_module_version": "1.2.0",
            "_view_name": "StyleView",
            "description_width": ""
          }
        },
        "b307b50627704f399c31541a1254a829": {
          "model_module": "@jupyter-widgets/controls",
          "model_name": "HBoxModel",
          "model_module_version": "1.5.0",
          "state": {
            "_dom_classes": [],
            "_model_module": "@jupyter-widgets/controls",
            "_model_module_version": "1.5.0",
            "_model_name": "HBoxModel",
            "_view_count": null,
            "_view_module": "@jupyter-widgets/controls",
            "_view_module_version": "1.5.0",
            "_view_name": "HBoxView",
            "box_style": "",
            "children": [
              "IPY_MODEL_e102510283eb405c9f213be3f26c9967",
              "IPY_MODEL_03e9a02c7c3447fcb5dec37f4142945c",
              "IPY_MODEL_a3fbfc1ae8cb41a4a4285e9d55fbb46d"
            ],
            "layout": "IPY_MODEL_5fcc43ceeff64af78a657471145b6192"
          }
        },
        "e102510283eb405c9f213be3f26c9967": {
          "model_module": "@jupyter-widgets/controls",
          "model_name": "HTMLModel",
          "model_module_version": "1.5.0",
          "state": {
            "_dom_classes": [],
            "_model_module": "@jupyter-widgets/controls",
            "_model_module_version": "1.5.0",
            "_model_name": "HTMLModel",
            "_view_count": null,
            "_view_module": "@jupyter-widgets/controls",
            "_view_module_version": "1.5.0",
            "_view_name": "HTMLView",
            "description": "",
            "description_tooltip": null,
            "layout": "IPY_MODEL_c053e10fb2e3431582d6875fa1028957",
            "placeholder": "​",
            "style": "IPY_MODEL_a29ebdadcc4c4c5baf4e4fdff7009d38",
            "value": "Generating splits...: 100%"
          }
        },
        "03e9a02c7c3447fcb5dec37f4142945c": {
          "model_module": "@jupyter-widgets/controls",
          "model_name": "FloatProgressModel",
          "model_module_version": "1.5.0",
          "state": {
            "_dom_classes": [],
            "_model_module": "@jupyter-widgets/controls",
            "_model_module_version": "1.5.0",
            "_model_name": "FloatProgressModel",
            "_view_count": null,
            "_view_module": "@jupyter-widgets/controls",
            "_view_module_version": "1.5.0",
            "_view_name": "ProgressView",
            "bar_style": "",
            "description": "",
            "description_tooltip": null,
            "layout": "IPY_MODEL_738eadcb89124b66aaf70eace27faa18",
            "max": 2,
            "min": 0,
            "orientation": "horizontal",
            "style": "IPY_MODEL_56ba360e53924dfda6c31607321bff53",
            "value": 2
          }
        },
        "a3fbfc1ae8cb41a4a4285e9d55fbb46d": {
          "model_module": "@jupyter-widgets/controls",
          "model_name": "HTMLModel",
          "model_module_version": "1.5.0",
          "state": {
            "_dom_classes": [],
            "_model_module": "@jupyter-widgets/controls",
            "_model_module_version": "1.5.0",
            "_model_name": "HTMLModel",
            "_view_count": null,
            "_view_module": "@jupyter-widgets/controls",
            "_view_module_version": "1.5.0",
            "_view_name": "HTMLView",
            "description": "",
            "description_tooltip": null,
            "layout": "IPY_MODEL_ee49689b29fc417e9bba23bdcf2aa750",
            "placeholder": "​",
            "style": "IPY_MODEL_46804fc717f54c0884d70bf9adc7caea",
            "value": " 2/2 [01:01&lt;00:00, 26.96s/ splits]"
          }
        },
        "5fcc43ceeff64af78a657471145b6192": {
          "model_module": "@jupyter-widgets/base",
          "model_name": "LayoutModel",
          "model_module_version": "1.2.0",
          "state": {
            "_model_module": "@jupyter-widgets/base",
            "_model_module_version": "1.2.0",
            "_model_name": "LayoutModel",
            "_view_count": null,
            "_view_module": "@jupyter-widgets/base",
            "_view_module_version": "1.2.0",
            "_view_name": "LayoutView",
            "align_content": null,
            "align_items": null,
            "align_self": null,
            "border": null,
            "bottom": null,
            "display": null,
            "flex": null,
            "flex_flow": null,
            "grid_area": null,
            "grid_auto_columns": null,
            "grid_auto_flow": null,
            "grid_auto_rows": null,
            "grid_column": null,
            "grid_gap": null,
            "grid_row": null,
            "grid_template_areas": null,
            "grid_template_columns": null,
            "grid_template_rows": null,
            "height": null,
            "justify_content": null,
            "justify_items": null,
            "left": null,
            "margin": null,
            "max_height": null,
            "max_width": null,
            "min_height": null,
            "min_width": null,
            "object_fit": null,
            "object_position": null,
            "order": null,
            "overflow": null,
            "overflow_x": null,
            "overflow_y": null,
            "padding": null,
            "right": null,
            "top": null,
            "visibility": "hidden",
            "width": null
          }
        },
        "c053e10fb2e3431582d6875fa1028957": {
          "model_module": "@jupyter-widgets/base",
          "model_name": "LayoutModel",
          "model_module_version": "1.2.0",
          "state": {
            "_model_module": "@jupyter-widgets/base",
            "_model_module_version": "1.2.0",
            "_model_name": "LayoutModel",
            "_view_count": null,
            "_view_module": "@jupyter-widgets/base",
            "_view_module_version": "1.2.0",
            "_view_name": "LayoutView",
            "align_content": null,
            "align_items": null,
            "align_self": null,
            "border": null,
            "bottom": null,
            "display": null,
            "flex": null,
            "flex_flow": null,
            "grid_area": null,
            "grid_auto_columns": null,
            "grid_auto_flow": null,
            "grid_auto_rows": null,
            "grid_column": null,
            "grid_gap": null,
            "grid_row": null,
            "grid_template_areas": null,
            "grid_template_columns": null,
            "grid_template_rows": null,
            "height": null,
            "justify_content": null,
            "justify_items": null,
            "left": null,
            "margin": null,
            "max_height": null,
            "max_width": null,
            "min_height": null,
            "min_width": null,
            "object_fit": null,
            "object_position": null,
            "order": null,
            "overflow": null,
            "overflow_x": null,
            "overflow_y": null,
            "padding": null,
            "right": null,
            "top": null,
            "visibility": null,
            "width": null
          }
        },
        "a29ebdadcc4c4c5baf4e4fdff7009d38": {
          "model_module": "@jupyter-widgets/controls",
          "model_name": "DescriptionStyleModel",
          "model_module_version": "1.5.0",
          "state": {
            "_model_module": "@jupyter-widgets/controls",
            "_model_module_version": "1.5.0",
            "_model_name": "DescriptionStyleModel",
            "_view_count": null,
            "_view_module": "@jupyter-widgets/base",
            "_view_module_version": "1.2.0",
            "_view_name": "StyleView",
            "description_width": ""
          }
        },
        "738eadcb89124b66aaf70eace27faa18": {
          "model_module": "@jupyter-widgets/base",
          "model_name": "LayoutModel",
          "model_module_version": "1.2.0",
          "state": {
            "_model_module": "@jupyter-widgets/base",
            "_model_module_version": "1.2.0",
            "_model_name": "LayoutModel",
            "_view_count": null,
            "_view_module": "@jupyter-widgets/base",
            "_view_module_version": "1.2.0",
            "_view_name": "LayoutView",
            "align_content": null,
            "align_items": null,
            "align_self": null,
            "border": null,
            "bottom": null,
            "display": null,
            "flex": null,
            "flex_flow": null,
            "grid_area": null,
            "grid_auto_columns": null,
            "grid_auto_flow": null,
            "grid_auto_rows": null,
            "grid_column": null,
            "grid_gap": null,
            "grid_row": null,
            "grid_template_areas": null,
            "grid_template_columns": null,
            "grid_template_rows": null,
            "height": null,
            "justify_content": null,
            "justify_items": null,
            "left": null,
            "margin": null,
            "max_height": null,
            "max_width": null,
            "min_height": null,
            "min_width": null,
            "object_fit": null,
            "object_position": null,
            "order": null,
            "overflow": null,
            "overflow_x": null,
            "overflow_y": null,
            "padding": null,
            "right": null,
            "top": null,
            "visibility": null,
            "width": null
          }
        },
        "56ba360e53924dfda6c31607321bff53": {
          "model_module": "@jupyter-widgets/controls",
          "model_name": "ProgressStyleModel",
          "model_module_version": "1.5.0",
          "state": {
            "_model_module": "@jupyter-widgets/controls",
            "_model_module_version": "1.5.0",
            "_model_name": "ProgressStyleModel",
            "_view_count": null,
            "_view_module": "@jupyter-widgets/base",
            "_view_module_version": "1.2.0",
            "_view_name": "StyleView",
            "bar_color": null,
            "description_width": ""
          }
        },
        "ee49689b29fc417e9bba23bdcf2aa750": {
          "model_module": "@jupyter-widgets/base",
          "model_name": "LayoutModel",
          "model_module_version": "1.2.0",
          "state": {
            "_model_module": "@jupyter-widgets/base",
            "_model_module_version": "1.2.0",
            "_model_name": "LayoutModel",
            "_view_count": null,
            "_view_module": "@jupyter-widgets/base",
            "_view_module_version": "1.2.0",
            "_view_name": "LayoutView",
            "align_content": null,
            "align_items": null,
            "align_self": null,
            "border": null,
            "bottom": null,
            "display": null,
            "flex": null,
            "flex_flow": null,
            "grid_area": null,
            "grid_auto_columns": null,
            "grid_auto_flow": null,
            "grid_auto_rows": null,
            "grid_column": null,
            "grid_gap": null,
            "grid_row": null,
            "grid_template_areas": null,
            "grid_template_columns": null,
            "grid_template_rows": null,
            "height": null,
            "justify_content": null,
            "justify_items": null,
            "left": null,
            "margin": null,
            "max_height": null,
            "max_width": null,
            "min_height": null,
            "min_width": null,
            "object_fit": null,
            "object_position": null,
            "order": null,
            "overflow": null,
            "overflow_x": null,
            "overflow_y": null,
            "padding": null,
            "right": null,
            "top": null,
            "visibility": null,
            "width": null
          }
        },
        "46804fc717f54c0884d70bf9adc7caea": {
          "model_module": "@jupyter-widgets/controls",
          "model_name": "DescriptionStyleModel",
          "model_module_version": "1.5.0",
          "state": {
            "_model_module": "@jupyter-widgets/controls",
            "_model_module_version": "1.5.0",
            "_model_name": "DescriptionStyleModel",
            "_view_count": null,
            "_view_module": "@jupyter-widgets/base",
            "_view_module_version": "1.2.0",
            "_view_name": "StyleView",
            "description_width": ""
          }
        },
        "79a1b7688bfd408f97437c43a4e04aea": {
          "model_module": "@jupyter-widgets/controls",
          "model_name": "HBoxModel",
          "model_module_version": "1.5.0",
          "state": {
            "_dom_classes": [],
            "_model_module": "@jupyter-widgets/controls",
            "_model_module_version": "1.5.0",
            "_model_name": "HBoxModel",
            "_view_count": null,
            "_view_module": "@jupyter-widgets/controls",
            "_view_module_version": "1.5.0",
            "_view_name": "HBoxView",
            "box_style": "",
            "children": [
              "IPY_MODEL_f636b499412943a3a1dcbd0290978154",
              "IPY_MODEL_fbc0967801b4406e82582988663af0e6",
              "IPY_MODEL_24560fd16f3e4f9a87028fc0812c466b"
            ],
            "layout": "IPY_MODEL_6b8907cfb04d4c249a56ca9d72715aac"
          }
        },
        "f636b499412943a3a1dcbd0290978154": {
          "model_module": "@jupyter-widgets/controls",
          "model_name": "HTMLModel",
          "model_module_version": "1.5.0",
          "state": {
            "_dom_classes": [],
            "_model_module": "@jupyter-widgets/controls",
            "_model_module_version": "1.5.0",
            "_model_name": "HTMLModel",
            "_view_count": null,
            "_view_module": "@jupyter-widgets/controls",
            "_view_module_version": "1.5.0",
            "_view_name": "HTMLView",
            "description": "",
            "description_tooltip": null,
            "layout": "IPY_MODEL_b87e7631ea644028ab384048074eb62e",
            "placeholder": "​",
            "style": "IPY_MODEL_e8bd80455088460191dbf64d011492e8",
            "value": "Generating train examples...: 100%"
          }
        },
        "fbc0967801b4406e82582988663af0e6": {
          "model_module": "@jupyter-widgets/controls",
          "model_name": "FloatProgressModel",
          "model_module_version": "1.5.0",
          "state": {
            "_dom_classes": [],
            "_model_module": "@jupyter-widgets/controls",
            "_model_module_version": "1.5.0",
            "_model_name": "FloatProgressModel",
            "_view_count": null,
            "_view_module": "@jupyter-widgets/controls",
            "_view_module_version": "1.5.0",
            "_view_name": "ProgressView",
            "bar_style": "",
            "description": "",
            "description_tooltip": null,
            "layout": "IPY_MODEL_4b376152845347949d9df75b91b636af",
            "max": 50000,
            "min": 0,
            "orientation": "horizontal",
            "style": "IPY_MODEL_36e36c71dfa048fba1413a4befc61ac6",
            "value": 50000
          }
        },
        "24560fd16f3e4f9a87028fc0812c466b": {
          "model_module": "@jupyter-widgets/controls",
          "model_name": "HTMLModel",
          "model_module_version": "1.5.0",
          "state": {
            "_dom_classes": [],
            "_model_module": "@jupyter-widgets/controls",
            "_model_module_version": "1.5.0",
            "_model_name": "HTMLModel",
            "_view_count": null,
            "_view_module": "@jupyter-widgets/controls",
            "_view_module_version": "1.5.0",
            "_view_name": "HTMLView",
            "description": "",
            "description_tooltip": null,
            "layout": "IPY_MODEL_d2b983e4e0f241c0bd2e4e71be4b88e7",
            "placeholder": "​",
            "style": "IPY_MODEL_1bdd0bcd31e1495fa371d528ffe764d2",
            "value": " 49931/50000 [00:52&lt;00:00, 1223.40 examples/s]"
          }
        },
        "6b8907cfb04d4c249a56ca9d72715aac": {
          "model_module": "@jupyter-widgets/base",
          "model_name": "LayoutModel",
          "model_module_version": "1.2.0",
          "state": {
            "_model_module": "@jupyter-widgets/base",
            "_model_module_version": "1.2.0",
            "_model_name": "LayoutModel",
            "_view_count": null,
            "_view_module": "@jupyter-widgets/base",
            "_view_module_version": "1.2.0",
            "_view_name": "LayoutView",
            "align_content": null,
            "align_items": null,
            "align_self": null,
            "border": null,
            "bottom": null,
            "display": null,
            "flex": null,
            "flex_flow": null,
            "grid_area": null,
            "grid_auto_columns": null,
            "grid_auto_flow": null,
            "grid_auto_rows": null,
            "grid_column": null,
            "grid_gap": null,
            "grid_row": null,
            "grid_template_areas": null,
            "grid_template_columns": null,
            "grid_template_rows": null,
            "height": null,
            "justify_content": null,
            "justify_items": null,
            "left": null,
            "margin": null,
            "max_height": null,
            "max_width": null,
            "min_height": null,
            "min_width": null,
            "object_fit": null,
            "object_position": null,
            "order": null,
            "overflow": null,
            "overflow_x": null,
            "overflow_y": null,
            "padding": null,
            "right": null,
            "top": null,
            "visibility": "hidden",
            "width": null
          }
        },
        "b87e7631ea644028ab384048074eb62e": {
          "model_module": "@jupyter-widgets/base",
          "model_name": "LayoutModel",
          "model_module_version": "1.2.0",
          "state": {
            "_model_module": "@jupyter-widgets/base",
            "_model_module_version": "1.2.0",
            "_model_name": "LayoutModel",
            "_view_count": null,
            "_view_module": "@jupyter-widgets/base",
            "_view_module_version": "1.2.0",
            "_view_name": "LayoutView",
            "align_content": null,
            "align_items": null,
            "align_self": null,
            "border": null,
            "bottom": null,
            "display": null,
            "flex": null,
            "flex_flow": null,
            "grid_area": null,
            "grid_auto_columns": null,
            "grid_auto_flow": null,
            "grid_auto_rows": null,
            "grid_column": null,
            "grid_gap": null,
            "grid_row": null,
            "grid_template_areas": null,
            "grid_template_columns": null,
            "grid_template_rows": null,
            "height": null,
            "justify_content": null,
            "justify_items": null,
            "left": null,
            "margin": null,
            "max_height": null,
            "max_width": null,
            "min_height": null,
            "min_width": null,
            "object_fit": null,
            "object_position": null,
            "order": null,
            "overflow": null,
            "overflow_x": null,
            "overflow_y": null,
            "padding": null,
            "right": null,
            "top": null,
            "visibility": null,
            "width": null
          }
        },
        "e8bd80455088460191dbf64d011492e8": {
          "model_module": "@jupyter-widgets/controls",
          "model_name": "DescriptionStyleModel",
          "model_module_version": "1.5.0",
          "state": {
            "_model_module": "@jupyter-widgets/controls",
            "_model_module_version": "1.5.0",
            "_model_name": "DescriptionStyleModel",
            "_view_count": null,
            "_view_module": "@jupyter-widgets/base",
            "_view_module_version": "1.2.0",
            "_view_name": "StyleView",
            "description_width": ""
          }
        },
        "4b376152845347949d9df75b91b636af": {
          "model_module": "@jupyter-widgets/base",
          "model_name": "LayoutModel",
          "model_module_version": "1.2.0",
          "state": {
            "_model_module": "@jupyter-widgets/base",
            "_model_module_version": "1.2.0",
            "_model_name": "LayoutModel",
            "_view_count": null,
            "_view_module": "@jupyter-widgets/base",
            "_view_module_version": "1.2.0",
            "_view_name": "LayoutView",
            "align_content": null,
            "align_items": null,
            "align_self": null,
            "border": null,
            "bottom": null,
            "display": null,
            "flex": null,
            "flex_flow": null,
            "grid_area": null,
            "grid_auto_columns": null,
            "grid_auto_flow": null,
            "grid_auto_rows": null,
            "grid_column": null,
            "grid_gap": null,
            "grid_row": null,
            "grid_template_areas": null,
            "grid_template_columns": null,
            "grid_template_rows": null,
            "height": null,
            "justify_content": null,
            "justify_items": null,
            "left": null,
            "margin": null,
            "max_height": null,
            "max_width": null,
            "min_height": null,
            "min_width": null,
            "object_fit": null,
            "object_position": null,
            "order": null,
            "overflow": null,
            "overflow_x": null,
            "overflow_y": null,
            "padding": null,
            "right": null,
            "top": null,
            "visibility": null,
            "width": null
          }
        },
        "36e36c71dfa048fba1413a4befc61ac6": {
          "model_module": "@jupyter-widgets/controls",
          "model_name": "ProgressStyleModel",
          "model_module_version": "1.5.0",
          "state": {
            "_model_module": "@jupyter-widgets/controls",
            "_model_module_version": "1.5.0",
            "_model_name": "ProgressStyleModel",
            "_view_count": null,
            "_view_module": "@jupyter-widgets/base",
            "_view_module_version": "1.2.0",
            "_view_name": "StyleView",
            "bar_color": null,
            "description_width": ""
          }
        },
        "d2b983e4e0f241c0bd2e4e71be4b88e7": {
          "model_module": "@jupyter-widgets/base",
          "model_name": "LayoutModel",
          "model_module_version": "1.2.0",
          "state": {
            "_model_module": "@jupyter-widgets/base",
            "_model_module_version": "1.2.0",
            "_model_name": "LayoutModel",
            "_view_count": null,
            "_view_module": "@jupyter-widgets/base",
            "_view_module_version": "1.2.0",
            "_view_name": "LayoutView",
            "align_content": null,
            "align_items": null,
            "align_self": null,
            "border": null,
            "bottom": null,
            "display": null,
            "flex": null,
            "flex_flow": null,
            "grid_area": null,
            "grid_auto_columns": null,
            "grid_auto_flow": null,
            "grid_auto_rows": null,
            "grid_column": null,
            "grid_gap": null,
            "grid_row": null,
            "grid_template_areas": null,
            "grid_template_columns": null,
            "grid_template_rows": null,
            "height": null,
            "justify_content": null,
            "justify_items": null,
            "left": null,
            "margin": null,
            "max_height": null,
            "max_width": null,
            "min_height": null,
            "min_width": null,
            "object_fit": null,
            "object_position": null,
            "order": null,
            "overflow": null,
            "overflow_x": null,
            "overflow_y": null,
            "padding": null,
            "right": null,
            "top": null,
            "visibility": null,
            "width": null
          }
        },
        "1bdd0bcd31e1495fa371d528ffe764d2": {
          "model_module": "@jupyter-widgets/controls",
          "model_name": "DescriptionStyleModel",
          "model_module_version": "1.5.0",
          "state": {
            "_model_module": "@jupyter-widgets/controls",
            "_model_module_version": "1.5.0",
            "_model_name": "DescriptionStyleModel",
            "_view_count": null,
            "_view_module": "@jupyter-widgets/base",
            "_view_module_version": "1.2.0",
            "_view_name": "StyleView",
            "description_width": ""
          }
        },
        "7660fe562f814661a36089c5a68346da": {
          "model_module": "@jupyter-widgets/controls",
          "model_name": "HBoxModel",
          "model_module_version": "1.5.0",
          "state": {
            "_dom_classes": [],
            "_model_module": "@jupyter-widgets/controls",
            "_model_module_version": "1.5.0",
            "_model_name": "HBoxModel",
            "_view_count": null,
            "_view_module": "@jupyter-widgets/controls",
            "_view_module_version": "1.5.0",
            "_view_name": "HBoxView",
            "box_style": "",
            "children": [
              "IPY_MODEL_14800ed88f054b1793a61b36996e1c3d",
              "IPY_MODEL_108097db30cf41a4948b8952e3e8d6f3",
              "IPY_MODEL_142e4269c0d24a758cb48ba21850b334"
            ],
            "layout": "IPY_MODEL_2cc09fa5ed91487586a2ae5ed1fb8f24"
          }
        },
        "14800ed88f054b1793a61b36996e1c3d": {
          "model_module": "@jupyter-widgets/controls",
          "model_name": "HTMLModel",
          "model_module_version": "1.5.0",
          "state": {
            "_dom_classes": [],
            "_model_module": "@jupyter-widgets/controls",
            "_model_module_version": "1.5.0",
            "_model_name": "HTMLModel",
            "_view_count": null,
            "_view_module": "@jupyter-widgets/controls",
            "_view_module_version": "1.5.0",
            "_view_name": "HTMLView",
            "description": "",
            "description_tooltip": null,
            "layout": "IPY_MODEL_e0720533cfb34babb1af00a279d0897d",
            "placeholder": "​",
            "style": "IPY_MODEL_0664818ae63345e3b4aab29c4ef8d8a9",
            "value": "Shuffling /root/tensorflow_datasets/cifar10/3.0.2.incompleteV2AA1S/cifar10-train.tfrecord*...:  92%"
          }
        },
        "108097db30cf41a4948b8952e3e8d6f3": {
          "model_module": "@jupyter-widgets/controls",
          "model_name": "FloatProgressModel",
          "model_module_version": "1.5.0",
          "state": {
            "_dom_classes": [],
            "_model_module": "@jupyter-widgets/controls",
            "_model_module_version": "1.5.0",
            "_model_name": "FloatProgressModel",
            "_view_count": null,
            "_view_module": "@jupyter-widgets/controls",
            "_view_module_version": "1.5.0",
            "_view_name": "ProgressView",
            "bar_style": "",
            "description": "",
            "description_tooltip": null,
            "layout": "IPY_MODEL_b70e2b2eb4d04973a2547431d0bcbdcc",
            "max": 50000,
            "min": 0,
            "orientation": "horizontal",
            "style": "IPY_MODEL_bd94a0dad73c478c9a741ef22ff5ef5c",
            "value": 50000
          }
        },
        "142e4269c0d24a758cb48ba21850b334": {
          "model_module": "@jupyter-widgets/controls",
          "model_name": "HTMLModel",
          "model_module_version": "1.5.0",
          "state": {
            "_dom_classes": [],
            "_model_module": "@jupyter-widgets/controls",
            "_model_module_version": "1.5.0",
            "_model_name": "HTMLModel",
            "_view_count": null,
            "_view_module": "@jupyter-widgets/controls",
            "_view_module_version": "1.5.0",
            "_view_name": "HTMLView",
            "description": "",
            "description_tooltip": null,
            "layout": "IPY_MODEL_ab18f0c6130042649f8e37c63a9a7e72",
            "placeholder": "​",
            "style": "IPY_MODEL_2375614bbe3d40e8991676fc7658b496",
            "value": " 45849/50000 [00:00&lt;00:00, 164243.01 examples/s]"
          }
        },
        "2cc09fa5ed91487586a2ae5ed1fb8f24": {
          "model_module": "@jupyter-widgets/base",
          "model_name": "LayoutModel",
          "model_module_version": "1.2.0",
          "state": {
            "_model_module": "@jupyter-widgets/base",
            "_model_module_version": "1.2.0",
            "_model_name": "LayoutModel",
            "_view_count": null,
            "_view_module": "@jupyter-widgets/base",
            "_view_module_version": "1.2.0",
            "_view_name": "LayoutView",
            "align_content": null,
            "align_items": null,
            "align_self": null,
            "border": null,
            "bottom": null,
            "display": null,
            "flex": null,
            "flex_flow": null,
            "grid_area": null,
            "grid_auto_columns": null,
            "grid_auto_flow": null,
            "grid_auto_rows": null,
            "grid_column": null,
            "grid_gap": null,
            "grid_row": null,
            "grid_template_areas": null,
            "grid_template_columns": null,
            "grid_template_rows": null,
            "height": null,
            "justify_content": null,
            "justify_items": null,
            "left": null,
            "margin": null,
            "max_height": null,
            "max_width": null,
            "min_height": null,
            "min_width": null,
            "object_fit": null,
            "object_position": null,
            "order": null,
            "overflow": null,
            "overflow_x": null,
            "overflow_y": null,
            "padding": null,
            "right": null,
            "top": null,
            "visibility": "hidden",
            "width": null
          }
        },
        "e0720533cfb34babb1af00a279d0897d": {
          "model_module": "@jupyter-widgets/base",
          "model_name": "LayoutModel",
          "model_module_version": "1.2.0",
          "state": {
            "_model_module": "@jupyter-widgets/base",
            "_model_module_version": "1.2.0",
            "_model_name": "LayoutModel",
            "_view_count": null,
            "_view_module": "@jupyter-widgets/base",
            "_view_module_version": "1.2.0",
            "_view_name": "LayoutView",
            "align_content": null,
            "align_items": null,
            "align_self": null,
            "border": null,
            "bottom": null,
            "display": null,
            "flex": null,
            "flex_flow": null,
            "grid_area": null,
            "grid_auto_columns": null,
            "grid_auto_flow": null,
            "grid_auto_rows": null,
            "grid_column": null,
            "grid_gap": null,
            "grid_row": null,
            "grid_template_areas": null,
            "grid_template_columns": null,
            "grid_template_rows": null,
            "height": null,
            "justify_content": null,
            "justify_items": null,
            "left": null,
            "margin": null,
            "max_height": null,
            "max_width": null,
            "min_height": null,
            "min_width": null,
            "object_fit": null,
            "object_position": null,
            "order": null,
            "overflow": null,
            "overflow_x": null,
            "overflow_y": null,
            "padding": null,
            "right": null,
            "top": null,
            "visibility": null,
            "width": null
          }
        },
        "0664818ae63345e3b4aab29c4ef8d8a9": {
          "model_module": "@jupyter-widgets/controls",
          "model_name": "DescriptionStyleModel",
          "model_module_version": "1.5.0",
          "state": {
            "_model_module": "@jupyter-widgets/controls",
            "_model_module_version": "1.5.0",
            "_model_name": "DescriptionStyleModel",
            "_view_count": null,
            "_view_module": "@jupyter-widgets/base",
            "_view_module_version": "1.2.0",
            "_view_name": "StyleView",
            "description_width": ""
          }
        },
        "b70e2b2eb4d04973a2547431d0bcbdcc": {
          "model_module": "@jupyter-widgets/base",
          "model_name": "LayoutModel",
          "model_module_version": "1.2.0",
          "state": {
            "_model_module": "@jupyter-widgets/base",
            "_model_module_version": "1.2.0",
            "_model_name": "LayoutModel",
            "_view_count": null,
            "_view_module": "@jupyter-widgets/base",
            "_view_module_version": "1.2.0",
            "_view_name": "LayoutView",
            "align_content": null,
            "align_items": null,
            "align_self": null,
            "border": null,
            "bottom": null,
            "display": null,
            "flex": null,
            "flex_flow": null,
            "grid_area": null,
            "grid_auto_columns": null,
            "grid_auto_flow": null,
            "grid_auto_rows": null,
            "grid_column": null,
            "grid_gap": null,
            "grid_row": null,
            "grid_template_areas": null,
            "grid_template_columns": null,
            "grid_template_rows": null,
            "height": null,
            "justify_content": null,
            "justify_items": null,
            "left": null,
            "margin": null,
            "max_height": null,
            "max_width": null,
            "min_height": null,
            "min_width": null,
            "object_fit": null,
            "object_position": null,
            "order": null,
            "overflow": null,
            "overflow_x": null,
            "overflow_y": null,
            "padding": null,
            "right": null,
            "top": null,
            "visibility": null,
            "width": null
          }
        },
        "bd94a0dad73c478c9a741ef22ff5ef5c": {
          "model_module": "@jupyter-widgets/controls",
          "model_name": "ProgressStyleModel",
          "model_module_version": "1.5.0",
          "state": {
            "_model_module": "@jupyter-widgets/controls",
            "_model_module_version": "1.5.0",
            "_model_name": "ProgressStyleModel",
            "_view_count": null,
            "_view_module": "@jupyter-widgets/base",
            "_view_module_version": "1.2.0",
            "_view_name": "StyleView",
            "bar_color": null,
            "description_width": ""
          }
        },
        "ab18f0c6130042649f8e37c63a9a7e72": {
          "model_module": "@jupyter-widgets/base",
          "model_name": "LayoutModel",
          "model_module_version": "1.2.0",
          "state": {
            "_model_module": "@jupyter-widgets/base",
            "_model_module_version": "1.2.0",
            "_model_name": "LayoutModel",
            "_view_count": null,
            "_view_module": "@jupyter-widgets/base",
            "_view_module_version": "1.2.0",
            "_view_name": "LayoutView",
            "align_content": null,
            "align_items": null,
            "align_self": null,
            "border": null,
            "bottom": null,
            "display": null,
            "flex": null,
            "flex_flow": null,
            "grid_area": null,
            "grid_auto_columns": null,
            "grid_auto_flow": null,
            "grid_auto_rows": null,
            "grid_column": null,
            "grid_gap": null,
            "grid_row": null,
            "grid_template_areas": null,
            "grid_template_columns": null,
            "grid_template_rows": null,
            "height": null,
            "justify_content": null,
            "justify_items": null,
            "left": null,
            "margin": null,
            "max_height": null,
            "max_width": null,
            "min_height": null,
            "min_width": null,
            "object_fit": null,
            "object_position": null,
            "order": null,
            "overflow": null,
            "overflow_x": null,
            "overflow_y": null,
            "padding": null,
            "right": null,
            "top": null,
            "visibility": null,
            "width": null
          }
        },
        "2375614bbe3d40e8991676fc7658b496": {
          "model_module": "@jupyter-widgets/controls",
          "model_name": "DescriptionStyleModel",
          "model_module_version": "1.5.0",
          "state": {
            "_model_module": "@jupyter-widgets/controls",
            "_model_module_version": "1.5.0",
            "_model_name": "DescriptionStyleModel",
            "_view_count": null,
            "_view_module": "@jupyter-widgets/base",
            "_view_module_version": "1.2.0",
            "_view_name": "StyleView",
            "description_width": ""
          }
        },
        "6a0e459747c24aeb9f4781f4c17b8d0a": {
          "model_module": "@jupyter-widgets/controls",
          "model_name": "HBoxModel",
          "model_module_version": "1.5.0",
          "state": {
            "_dom_classes": [],
            "_model_module": "@jupyter-widgets/controls",
            "_model_module_version": "1.5.0",
            "_model_name": "HBoxModel",
            "_view_count": null,
            "_view_module": "@jupyter-widgets/controls",
            "_view_module_version": "1.5.0",
            "_view_name": "HBoxView",
            "box_style": "",
            "children": [
              "IPY_MODEL_8a53a4fac15c482da1c14692d0b56e8b",
              "IPY_MODEL_f71026a10e10418385c5b18b1a6be440",
              "IPY_MODEL_d5062944e7fb48e29790c99d54a70908"
            ],
            "layout": "IPY_MODEL_33a7d3f7323e4f02a2c1294bc3e472a4"
          }
        },
        "8a53a4fac15c482da1c14692d0b56e8b": {
          "model_module": "@jupyter-widgets/controls",
          "model_name": "HTMLModel",
          "model_module_version": "1.5.0",
          "state": {
            "_dom_classes": [],
            "_model_module": "@jupyter-widgets/controls",
            "_model_module_version": "1.5.0",
            "_model_name": "HTMLModel",
            "_view_count": null,
            "_view_module": "@jupyter-widgets/controls",
            "_view_module_version": "1.5.0",
            "_view_name": "HTMLView",
            "description": "",
            "description_tooltip": null,
            "layout": "IPY_MODEL_d020b4ea0279482ba05ae7311335154d",
            "placeholder": "​",
            "style": "IPY_MODEL_de46d1d9764e46608069d94b25790f7d",
            "value": "Generating test examples...: 100%"
          }
        },
        "f71026a10e10418385c5b18b1a6be440": {
          "model_module": "@jupyter-widgets/controls",
          "model_name": "FloatProgressModel",
          "model_module_version": "1.5.0",
          "state": {
            "_dom_classes": [],
            "_model_module": "@jupyter-widgets/controls",
            "_model_module_version": "1.5.0",
            "_model_name": "FloatProgressModel",
            "_view_count": null,
            "_view_module": "@jupyter-widgets/controls",
            "_view_module_version": "1.5.0",
            "_view_name": "ProgressView",
            "bar_style": "",
            "description": "",
            "description_tooltip": null,
            "layout": "IPY_MODEL_56ce6d16f8d94356b0eed3a05a22b57d",
            "max": 10000,
            "min": 0,
            "orientation": "horizontal",
            "style": "IPY_MODEL_538242d2e08446a196c3b9c9b77beddf",
            "value": 10000
          }
        },
        "d5062944e7fb48e29790c99d54a70908": {
          "model_module": "@jupyter-widgets/controls",
          "model_name": "HTMLModel",
          "model_module_version": "1.5.0",
          "state": {
            "_dom_classes": [],
            "_model_module": "@jupyter-widgets/controls",
            "_model_module_version": "1.5.0",
            "_model_name": "HTMLModel",
            "_view_count": null,
            "_view_module": "@jupyter-widgets/controls",
            "_view_module_version": "1.5.0",
            "_view_name": "HTMLView",
            "description": "",
            "description_tooltip": null,
            "layout": "IPY_MODEL_5114d5a7f81b435d9b154fd858b8071f",
            "placeholder": "​",
            "style": "IPY_MODEL_95d9eddca5c546389cd355242a130e5f",
            "value": " 9986/10000 [00:08&lt;00:00, 1156.79 examples/s]"
          }
        },
        "33a7d3f7323e4f02a2c1294bc3e472a4": {
          "model_module": "@jupyter-widgets/base",
          "model_name": "LayoutModel",
          "model_module_version": "1.2.0",
          "state": {
            "_model_module": "@jupyter-widgets/base",
            "_model_module_version": "1.2.0",
            "_model_name": "LayoutModel",
            "_view_count": null,
            "_view_module": "@jupyter-widgets/base",
            "_view_module_version": "1.2.0",
            "_view_name": "LayoutView",
            "align_content": null,
            "align_items": null,
            "align_self": null,
            "border": null,
            "bottom": null,
            "display": null,
            "flex": null,
            "flex_flow": null,
            "grid_area": null,
            "grid_auto_columns": null,
            "grid_auto_flow": null,
            "grid_auto_rows": null,
            "grid_column": null,
            "grid_gap": null,
            "grid_row": null,
            "grid_template_areas": null,
            "grid_template_columns": null,
            "grid_template_rows": null,
            "height": null,
            "justify_content": null,
            "justify_items": null,
            "left": null,
            "margin": null,
            "max_height": null,
            "max_width": null,
            "min_height": null,
            "min_width": null,
            "object_fit": null,
            "object_position": null,
            "order": null,
            "overflow": null,
            "overflow_x": null,
            "overflow_y": null,
            "padding": null,
            "right": null,
            "top": null,
            "visibility": "hidden",
            "width": null
          }
        },
        "d020b4ea0279482ba05ae7311335154d": {
          "model_module": "@jupyter-widgets/base",
          "model_name": "LayoutModel",
          "model_module_version": "1.2.0",
          "state": {
            "_model_module": "@jupyter-widgets/base",
            "_model_module_version": "1.2.0",
            "_model_name": "LayoutModel",
            "_view_count": null,
            "_view_module": "@jupyter-widgets/base",
            "_view_module_version": "1.2.0",
            "_view_name": "LayoutView",
            "align_content": null,
            "align_items": null,
            "align_self": null,
            "border": null,
            "bottom": null,
            "display": null,
            "flex": null,
            "flex_flow": null,
            "grid_area": null,
            "grid_auto_columns": null,
            "grid_auto_flow": null,
            "grid_auto_rows": null,
            "grid_column": null,
            "grid_gap": null,
            "grid_row": null,
            "grid_template_areas": null,
            "grid_template_columns": null,
            "grid_template_rows": null,
            "height": null,
            "justify_content": null,
            "justify_items": null,
            "left": null,
            "margin": null,
            "max_height": null,
            "max_width": null,
            "min_height": null,
            "min_width": null,
            "object_fit": null,
            "object_position": null,
            "order": null,
            "overflow": null,
            "overflow_x": null,
            "overflow_y": null,
            "padding": null,
            "right": null,
            "top": null,
            "visibility": null,
            "width": null
          }
        },
        "de46d1d9764e46608069d94b25790f7d": {
          "model_module": "@jupyter-widgets/controls",
          "model_name": "DescriptionStyleModel",
          "model_module_version": "1.5.0",
          "state": {
            "_model_module": "@jupyter-widgets/controls",
            "_model_module_version": "1.5.0",
            "_model_name": "DescriptionStyleModel",
            "_view_count": null,
            "_view_module": "@jupyter-widgets/base",
            "_view_module_version": "1.2.0",
            "_view_name": "StyleView",
            "description_width": ""
          }
        },
        "56ce6d16f8d94356b0eed3a05a22b57d": {
          "model_module": "@jupyter-widgets/base",
          "model_name": "LayoutModel",
          "model_module_version": "1.2.0",
          "state": {
            "_model_module": "@jupyter-widgets/base",
            "_model_module_version": "1.2.0",
            "_model_name": "LayoutModel",
            "_view_count": null,
            "_view_module": "@jupyter-widgets/base",
            "_view_module_version": "1.2.0",
            "_view_name": "LayoutView",
            "align_content": null,
            "align_items": null,
            "align_self": null,
            "border": null,
            "bottom": null,
            "display": null,
            "flex": null,
            "flex_flow": null,
            "grid_area": null,
            "grid_auto_columns": null,
            "grid_auto_flow": null,
            "grid_auto_rows": null,
            "grid_column": null,
            "grid_gap": null,
            "grid_row": null,
            "grid_template_areas": null,
            "grid_template_columns": null,
            "grid_template_rows": null,
            "height": null,
            "justify_content": null,
            "justify_items": null,
            "left": null,
            "margin": null,
            "max_height": null,
            "max_width": null,
            "min_height": null,
            "min_width": null,
            "object_fit": null,
            "object_position": null,
            "order": null,
            "overflow": null,
            "overflow_x": null,
            "overflow_y": null,
            "padding": null,
            "right": null,
            "top": null,
            "visibility": null,
            "width": null
          }
        },
        "538242d2e08446a196c3b9c9b77beddf": {
          "model_module": "@jupyter-widgets/controls",
          "model_name": "ProgressStyleModel",
          "model_module_version": "1.5.0",
          "state": {
            "_model_module": "@jupyter-widgets/controls",
            "_model_module_version": "1.5.0",
            "_model_name": "ProgressStyleModel",
            "_view_count": null,
            "_view_module": "@jupyter-widgets/base",
            "_view_module_version": "1.2.0",
            "_view_name": "StyleView",
            "bar_color": null,
            "description_width": ""
          }
        },
        "5114d5a7f81b435d9b154fd858b8071f": {
          "model_module": "@jupyter-widgets/base",
          "model_name": "LayoutModel",
          "model_module_version": "1.2.0",
          "state": {
            "_model_module": "@jupyter-widgets/base",
            "_model_module_version": "1.2.0",
            "_model_name": "LayoutModel",
            "_view_count": null,
            "_view_module": "@jupyter-widgets/base",
            "_view_module_version": "1.2.0",
            "_view_name": "LayoutView",
            "align_content": null,
            "align_items": null,
            "align_self": null,
            "border": null,
            "bottom": null,
            "display": null,
            "flex": null,
            "flex_flow": null,
            "grid_area": null,
            "grid_auto_columns": null,
            "grid_auto_flow": null,
            "grid_auto_rows": null,
            "grid_column": null,
            "grid_gap": null,
            "grid_row": null,
            "grid_template_areas": null,
            "grid_template_columns": null,
            "grid_template_rows": null,
            "height": null,
            "justify_content": null,
            "justify_items": null,
            "left": null,
            "margin": null,
            "max_height": null,
            "max_width": null,
            "min_height": null,
            "min_width": null,
            "object_fit": null,
            "object_position": null,
            "order": null,
            "overflow": null,
            "overflow_x": null,
            "overflow_y": null,
            "padding": null,
            "right": null,
            "top": null,
            "visibility": null,
            "width": null
          }
        },
        "95d9eddca5c546389cd355242a130e5f": {
          "model_module": "@jupyter-widgets/controls",
          "model_name": "DescriptionStyleModel",
          "model_module_version": "1.5.0",
          "state": {
            "_model_module": "@jupyter-widgets/controls",
            "_model_module_version": "1.5.0",
            "_model_name": "DescriptionStyleModel",
            "_view_count": null,
            "_view_module": "@jupyter-widgets/base",
            "_view_module_version": "1.2.0",
            "_view_name": "StyleView",
            "description_width": ""
          }
        },
        "b9617bf0d30a4fdc8772d295a05e2133": {
          "model_module": "@jupyter-widgets/controls",
          "model_name": "HBoxModel",
          "model_module_version": "1.5.0",
          "state": {
            "_dom_classes": [],
            "_model_module": "@jupyter-widgets/controls",
            "_model_module_version": "1.5.0",
            "_model_name": "HBoxModel",
            "_view_count": null,
            "_view_module": "@jupyter-widgets/controls",
            "_view_module_version": "1.5.0",
            "_view_name": "HBoxView",
            "box_style": "",
            "children": [
              "IPY_MODEL_4aa51b6e64044918ad93ea56b704ac7c",
              "IPY_MODEL_c99ff6972e0548719ba503527b23477d",
              "IPY_MODEL_3dab07a577dc43fca6ad0cf5a862b50d"
            ],
            "layout": "IPY_MODEL_144f2e651add4631a4fea0f7a640f4d4"
          }
        },
        "4aa51b6e64044918ad93ea56b704ac7c": {
          "model_module": "@jupyter-widgets/controls",
          "model_name": "HTMLModel",
          "model_module_version": "1.5.0",
          "state": {
            "_dom_classes": [],
            "_model_module": "@jupyter-widgets/controls",
            "_model_module_version": "1.5.0",
            "_model_name": "HTMLModel",
            "_view_count": null,
            "_view_module": "@jupyter-widgets/controls",
            "_view_module_version": "1.5.0",
            "_view_name": "HTMLView",
            "description": "",
            "description_tooltip": null,
            "layout": "IPY_MODEL_e03f2a6f2e0a4d50bd27138c8e824949",
            "placeholder": "​",
            "style": "IPY_MODEL_a5d51ffa27bb49e1b0b917d419e3d1b1",
            "value": "Shuffling /root/tensorflow_datasets/cifar10/3.0.2.incompleteV2AA1S/cifar10-test.tfrecord*...:   0%"
          }
        },
        "c99ff6972e0548719ba503527b23477d": {
          "model_module": "@jupyter-widgets/controls",
          "model_name": "FloatProgressModel",
          "model_module_version": "1.5.0",
          "state": {
            "_dom_classes": [],
            "_model_module": "@jupyter-widgets/controls",
            "_model_module_version": "1.5.0",
            "_model_name": "FloatProgressModel",
            "_view_count": null,
            "_view_module": "@jupyter-widgets/controls",
            "_view_module_version": "1.5.0",
            "_view_name": "ProgressView",
            "bar_style": "",
            "description": "",
            "description_tooltip": null,
            "layout": "IPY_MODEL_b7932f33f60b4103babe0f8678a36dd5",
            "max": 10000,
            "min": 0,
            "orientation": "horizontal",
            "style": "IPY_MODEL_733402e67def435f98b2ad92d84fe696",
            "value": 10000
          }
        },
        "3dab07a577dc43fca6ad0cf5a862b50d": {
          "model_module": "@jupyter-widgets/controls",
          "model_name": "HTMLModel",
          "model_module_version": "1.5.0",
          "state": {
            "_dom_classes": [],
            "_model_module": "@jupyter-widgets/controls",
            "_model_module_version": "1.5.0",
            "_model_name": "HTMLModel",
            "_view_count": null,
            "_view_module": "@jupyter-widgets/controls",
            "_view_module_version": "1.5.0",
            "_view_name": "HTMLView",
            "description": "",
            "description_tooltip": null,
            "layout": "IPY_MODEL_d882750d780445c7bfc5f35d1f5f5dde",
            "placeholder": "​",
            "style": "IPY_MODEL_155518b7558c421197b02cb7fb9861bb",
            "value": " 0/10000 [00:00&lt;?, ? examples/s]"
          }
        },
        "144f2e651add4631a4fea0f7a640f4d4": {
          "model_module": "@jupyter-widgets/base",
          "model_name": "LayoutModel",
          "model_module_version": "1.2.0",
          "state": {
            "_model_module": "@jupyter-widgets/base",
            "_model_module_version": "1.2.0",
            "_model_name": "LayoutModel",
            "_view_count": null,
            "_view_module": "@jupyter-widgets/base",
            "_view_module_version": "1.2.0",
            "_view_name": "LayoutView",
            "align_content": null,
            "align_items": null,
            "align_self": null,
            "border": null,
            "bottom": null,
            "display": null,
            "flex": null,
            "flex_flow": null,
            "grid_area": null,
            "grid_auto_columns": null,
            "grid_auto_flow": null,
            "grid_auto_rows": null,
            "grid_column": null,
            "grid_gap": null,
            "grid_row": null,
            "grid_template_areas": null,
            "grid_template_columns": null,
            "grid_template_rows": null,
            "height": null,
            "justify_content": null,
            "justify_items": null,
            "left": null,
            "margin": null,
            "max_height": null,
            "max_width": null,
            "min_height": null,
            "min_width": null,
            "object_fit": null,
            "object_position": null,
            "order": null,
            "overflow": null,
            "overflow_x": null,
            "overflow_y": null,
            "padding": null,
            "right": null,
            "top": null,
            "visibility": "hidden",
            "width": null
          }
        },
        "e03f2a6f2e0a4d50bd27138c8e824949": {
          "model_module": "@jupyter-widgets/base",
          "model_name": "LayoutModel",
          "model_module_version": "1.2.0",
          "state": {
            "_model_module": "@jupyter-widgets/base",
            "_model_module_version": "1.2.0",
            "_model_name": "LayoutModel",
            "_view_count": null,
            "_view_module": "@jupyter-widgets/base",
            "_view_module_version": "1.2.0",
            "_view_name": "LayoutView",
            "align_content": null,
            "align_items": null,
            "align_self": null,
            "border": null,
            "bottom": null,
            "display": null,
            "flex": null,
            "flex_flow": null,
            "grid_area": null,
            "grid_auto_columns": null,
            "grid_auto_flow": null,
            "grid_auto_rows": null,
            "grid_column": null,
            "grid_gap": null,
            "grid_row": null,
            "grid_template_areas": null,
            "grid_template_columns": null,
            "grid_template_rows": null,
            "height": null,
            "justify_content": null,
            "justify_items": null,
            "left": null,
            "margin": null,
            "max_height": null,
            "max_width": null,
            "min_height": null,
            "min_width": null,
            "object_fit": null,
            "object_position": null,
            "order": null,
            "overflow": null,
            "overflow_x": null,
            "overflow_y": null,
            "padding": null,
            "right": null,
            "top": null,
            "visibility": null,
            "width": null
          }
        },
        "a5d51ffa27bb49e1b0b917d419e3d1b1": {
          "model_module": "@jupyter-widgets/controls",
          "model_name": "DescriptionStyleModel",
          "model_module_version": "1.5.0",
          "state": {
            "_model_module": "@jupyter-widgets/controls",
            "_model_module_version": "1.5.0",
            "_model_name": "DescriptionStyleModel",
            "_view_count": null,
            "_view_module": "@jupyter-widgets/base",
            "_view_module_version": "1.2.0",
            "_view_name": "StyleView",
            "description_width": ""
          }
        },
        "b7932f33f60b4103babe0f8678a36dd5": {
          "model_module": "@jupyter-widgets/base",
          "model_name": "LayoutModel",
          "model_module_version": "1.2.0",
          "state": {
            "_model_module": "@jupyter-widgets/base",
            "_model_module_version": "1.2.0",
            "_model_name": "LayoutModel",
            "_view_count": null,
            "_view_module": "@jupyter-widgets/base",
            "_view_module_version": "1.2.0",
            "_view_name": "LayoutView",
            "align_content": null,
            "align_items": null,
            "align_self": null,
            "border": null,
            "bottom": null,
            "display": null,
            "flex": null,
            "flex_flow": null,
            "grid_area": null,
            "grid_auto_columns": null,
            "grid_auto_flow": null,
            "grid_auto_rows": null,
            "grid_column": null,
            "grid_gap": null,
            "grid_row": null,
            "grid_template_areas": null,
            "grid_template_columns": null,
            "grid_template_rows": null,
            "height": null,
            "justify_content": null,
            "justify_items": null,
            "left": null,
            "margin": null,
            "max_height": null,
            "max_width": null,
            "min_height": null,
            "min_width": null,
            "object_fit": null,
            "object_position": null,
            "order": null,
            "overflow": null,
            "overflow_x": null,
            "overflow_y": null,
            "padding": null,
            "right": null,
            "top": null,
            "visibility": null,
            "width": null
          }
        },
        "733402e67def435f98b2ad92d84fe696": {
          "model_module": "@jupyter-widgets/controls",
          "model_name": "ProgressStyleModel",
          "model_module_version": "1.5.0",
          "state": {
            "_model_module": "@jupyter-widgets/controls",
            "_model_module_version": "1.5.0",
            "_model_name": "ProgressStyleModel",
            "_view_count": null,
            "_view_module": "@jupyter-widgets/base",
            "_view_module_version": "1.2.0",
            "_view_name": "StyleView",
            "bar_color": null,
            "description_width": ""
          }
        },
        "d882750d780445c7bfc5f35d1f5f5dde": {
          "model_module": "@jupyter-widgets/base",
          "model_name": "LayoutModel",
          "model_module_version": "1.2.0",
          "state": {
            "_model_module": "@jupyter-widgets/base",
            "_model_module_version": "1.2.0",
            "_model_name": "LayoutModel",
            "_view_count": null,
            "_view_module": "@jupyter-widgets/base",
            "_view_module_version": "1.2.0",
            "_view_name": "LayoutView",
            "align_content": null,
            "align_items": null,
            "align_self": null,
            "border": null,
            "bottom": null,
            "display": null,
            "flex": null,
            "flex_flow": null,
            "grid_area": null,
            "grid_auto_columns": null,
            "grid_auto_flow": null,
            "grid_auto_rows": null,
            "grid_column": null,
            "grid_gap": null,
            "grid_row": null,
            "grid_template_areas": null,
            "grid_template_columns": null,
            "grid_template_rows": null,
            "height": null,
            "justify_content": null,
            "justify_items": null,
            "left": null,
            "margin": null,
            "max_height": null,
            "max_width": null,
            "min_height": null,
            "min_width": null,
            "object_fit": null,
            "object_position": null,
            "order": null,
            "overflow": null,
            "overflow_x": null,
            "overflow_y": null,
            "padding": null,
            "right": null,
            "top": null,
            "visibility": null,
            "width": null
          }
        },
        "155518b7558c421197b02cb7fb9861bb": {
          "model_module": "@jupyter-widgets/controls",
          "model_name": "DescriptionStyleModel",
          "model_module_version": "1.5.0",
          "state": {
            "_model_module": "@jupyter-widgets/controls",
            "_model_module_version": "1.5.0",
            "_model_name": "DescriptionStyleModel",
            "_view_count": null,
            "_view_module": "@jupyter-widgets/base",
            "_view_module_version": "1.2.0",
            "_view_name": "StyleView",
            "description_width": ""
          }
        }
      }
    }
  },
  "nbformat": 4,
  "nbformat_minor": 0
}